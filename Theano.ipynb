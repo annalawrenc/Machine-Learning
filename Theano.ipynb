{
 "cells": [
  {
   "cell_type": "markdown",
   "metadata": {},
   "source": [
    "# Regresión de una función con Theano."
   ]
  },
  {
   "cell_type": "markdown",
   "metadata": {},
   "source": [
    "Crear un conjunto de datos utilizando el siguiente código:\n",
    "\n",
    "    trX = np.linspace(-1, 1, 101)\n",
    "\n",
    "    trY = np.linspace(-1, 1, 101)\n",
    "\n",
    "    for i in range(len(trY)):\n",
    "\n",
    "    trY[i] = math.log(1 + 0.5 * abs(trX[i])) + trX[i] / 3 +\n",
    "\n",
    "    np.random.randn() * 0.033\n",
    "\n",
    "Ahora utilizar Theano para obtener los parámetros w_0 y w_1 del siguiente modelo utilizando los datos generados anteriormente.\n",
    "\n",
    "    y = log(1 + w0|x|) + w1x,"
   ]
  },
  {
   "cell_type": "code",
   "execution_count": 4,
   "metadata": {
    "collapsed": false
   },
   "outputs": [
    {
     "name": "stdout",
     "output_type": "stream",
     "text": [
      "Using matplotlib backend: Qt4Agg\n",
      "Populating the interactive namespace from numpy and matplotlib\n"
     ]
    }
   ],
   "source": [
    "%pylab\n",
    "%matplotlib inline\n",
    "\n",
    "trX = np.linspace(-1, 1, 101)\n",
    "trY = np.linspace(-1, 1, 101)\n",
    "for i in range(len(trY)):\n",
    "    trY[i] = math.log(1 + 0.5 * abs(trX[i])) + trX[i] / 3 + np.random.randn() * 0.033"
   ]
  },
  {
   "cell_type": "code",
   "execution_count": 6,
   "metadata": {
    "collapsed": false
   },
   "outputs": [
    {
     "name": "stdout",
     "output_type": "stream",
     "text": [
      "Paso  0  w0 =  0.201345145424  y w1 =  0.17581976061\n",
      "Paso  1  w0 =  0.307670331941  y w1 =  0.265412978615\n",
      "Paso  2  w0 =  0.372387124467  y w1 =  0.309348577616\n",
      "Paso  3  w0 =  0.414140664438  y w1 =  0.330387865866\n",
      "Paso  4  w0 =  0.441871132483  y w1 =  0.340187732576\n",
      "Paso  5  w0 =  0.460583719332  y w1 =  0.344568246455\n",
      "Paso  6  w0 =  0.4733288664  y w1 =  0.34639252841\n",
      "Paso  7  w0 =  0.48205871961  y w1 =  0.347049276741\n",
      "Paso  8  w0 =  0.488059379721  y w1 =  0.347200194346\n",
      "Paso  9  w0 =  0.49219331487  y w1 =  0.347152606556\n"
     ]
    }
   ],
   "source": [
    "import theano\n",
    "import theano.tensor as T\n",
    "\n",
    "X = T.scalar()\n",
    "Y = T.scalar()\n",
    "\n",
    "def model(X, w0, w1):\n",
    "    return T.log(1 + w0 * abs(X)) + w1 * X\n",
    "\n",
    "w0 = theano.shared(np.asarray(0., dtype=theano.config.floatX))\n",
    "w1 = theano.shared(np.asarray(0., dtype=theano.config.floatX))\n",
    "y = model(X, w0, w1)\n",
    "\n",
    "cost = T.mean(T.sqr(y - Y))\n",
    "gradient0 = T.grad(cost = cost, wrt = w0)\n",
    "gradient1 = T.grad(cost = cost, wrt = w1)\n",
    "updates = [[w0, w0 - gradient0 * 0.01], [w1, w1 - gradient1 * 0.01]]\n",
    "\n",
    "train = theano.function(inputs = [X, Y], outputs = cost, updates = updates)\n",
    "\n",
    "for i in range(10):\n",
    "    for x, y in zip(trX, trY):\n",
    "        train(x, y)\n",
    "        \n",
    "    print \"Paso \", i, \" w0 = \", w0.get_value(), \" y w1 = \", w1.get_value()"
   ]
  },
  {
   "cell_type": "code",
   "execution_count": null,
   "metadata": {
    "collapsed": true
   },
   "outputs": [],
   "source": []
  }
 ],
 "metadata": {
  "kernelspec": {
   "display_name": "Python 2",
   "language": "python",
   "name": "python2"
  },
  "language_info": {
   "codemirror_mode": {
    "name": "ipython",
    "version": 2
   },
   "file_extension": ".py",
   "mimetype": "text/x-python",
   "name": "python",
   "nbconvert_exporter": "python",
   "pygments_lexer": "ipython2",
   "version": "2.7.11"
  }
 },
 "nbformat": 4,
 "nbformat_minor": 0
}
