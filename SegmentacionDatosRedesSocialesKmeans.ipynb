{
 "cells": [
  {
   "cell_type": "markdown",
   "metadata": {},
   "source": [
    "# Segmentación de datos de redes sociales."
   ]
  },
  {
   "cell_type": "markdown",
   "metadata": {},
   "source": [
    "En el archivo “snsdata.csv” se encuentra los términos más utilizados en unos 30.000 perfiles aleatorios de adolescentes de una red social. \n",
    "Voy a importar el archivo y separar el conjunto de datos en dos según el género de los usuarios (F y M). En cada uno de los subconjuntos de datos eliminaré el año de graduación ('gradyear'), el género ('gender') y la edad (‘age’). \n",
    "\n",
    "Utilizando el algoritmo de k-means identificaré el número de segmentos óptimos en los que se divide cada subconjunto de datos y obtendré los valores de los centroides."
   ]
  },
  {
   "cell_type": "code",
   "execution_count": 1,
   "metadata": {
    "collapsed": true
   },
   "outputs": [],
   "source": [
    "import pandas as pd\n",
    "\n",
    "datos = pd.read_csv('snsdata.csv', sep = ',') # importación de datos en un data frame de pandas"
   ]
  },
  {
   "cell_type": "code",
   "execution_count": 2,
   "metadata": {
    "collapsed": false
   },
   "outputs": [
    {
     "data": {
      "text/html": [
       "<div>\n",
       "<table border=\"1\" class=\"dataframe\">\n",
       "  <thead>\n",
       "    <tr style=\"text-align: right;\">\n",
       "      <th></th>\n",
       "      <th>gradyear</th>\n",
       "      <th>gender</th>\n",
       "      <th>age</th>\n",
       "      <th>friends</th>\n",
       "      <th>basketball</th>\n",
       "      <th>football</th>\n",
       "      <th>soccer</th>\n",
       "      <th>softball</th>\n",
       "      <th>volleyball</th>\n",
       "      <th>swimming</th>\n",
       "      <th>...</th>\n",
       "      <th>blonde</th>\n",
       "      <th>mall</th>\n",
       "      <th>shopping</th>\n",
       "      <th>clothes</th>\n",
       "      <th>hollister</th>\n",
       "      <th>abercrombie</th>\n",
       "      <th>die</th>\n",
       "      <th>death</th>\n",
       "      <th>drunk</th>\n",
       "      <th>drugs</th>\n",
       "    </tr>\n",
       "  </thead>\n",
       "  <tbody>\n",
       "    <tr>\n",
       "      <th>0</th>\n",
       "      <td>2006</td>\n",
       "      <td>M</td>\n",
       "      <td>18.982</td>\n",
       "      <td>7</td>\n",
       "      <td>0</td>\n",
       "      <td>0</td>\n",
       "      <td>0</td>\n",
       "      <td>0</td>\n",
       "      <td>0</td>\n",
       "      <td>0</td>\n",
       "      <td>...</td>\n",
       "      <td>0</td>\n",
       "      <td>0</td>\n",
       "      <td>0</td>\n",
       "      <td>0</td>\n",
       "      <td>0</td>\n",
       "      <td>0</td>\n",
       "      <td>0</td>\n",
       "      <td>0</td>\n",
       "      <td>0</td>\n",
       "      <td>0</td>\n",
       "    </tr>\n",
       "    <tr>\n",
       "      <th>1</th>\n",
       "      <td>2006</td>\n",
       "      <td>F</td>\n",
       "      <td>18.801</td>\n",
       "      <td>0</td>\n",
       "      <td>0</td>\n",
       "      <td>1</td>\n",
       "      <td>0</td>\n",
       "      <td>0</td>\n",
       "      <td>0</td>\n",
       "      <td>0</td>\n",
       "      <td>...</td>\n",
       "      <td>0</td>\n",
       "      <td>1</td>\n",
       "      <td>0</td>\n",
       "      <td>0</td>\n",
       "      <td>0</td>\n",
       "      <td>0</td>\n",
       "      <td>0</td>\n",
       "      <td>0</td>\n",
       "      <td>0</td>\n",
       "      <td>0</td>\n",
       "    </tr>\n",
       "    <tr>\n",
       "      <th>2</th>\n",
       "      <td>2006</td>\n",
       "      <td>M</td>\n",
       "      <td>18.335</td>\n",
       "      <td>69</td>\n",
       "      <td>0</td>\n",
       "      <td>1</td>\n",
       "      <td>0</td>\n",
       "      <td>0</td>\n",
       "      <td>0</td>\n",
       "      <td>0</td>\n",
       "      <td>...</td>\n",
       "      <td>0</td>\n",
       "      <td>0</td>\n",
       "      <td>0</td>\n",
       "      <td>0</td>\n",
       "      <td>0</td>\n",
       "      <td>0</td>\n",
       "      <td>0</td>\n",
       "      <td>1</td>\n",
       "      <td>0</td>\n",
       "      <td>0</td>\n",
       "    </tr>\n",
       "    <tr>\n",
       "      <th>3</th>\n",
       "      <td>2006</td>\n",
       "      <td>F</td>\n",
       "      <td>18.875</td>\n",
       "      <td>0</td>\n",
       "      <td>0</td>\n",
       "      <td>0</td>\n",
       "      <td>0</td>\n",
       "      <td>0</td>\n",
       "      <td>0</td>\n",
       "      <td>0</td>\n",
       "      <td>...</td>\n",
       "      <td>0</td>\n",
       "      <td>0</td>\n",
       "      <td>0</td>\n",
       "      <td>0</td>\n",
       "      <td>0</td>\n",
       "      <td>0</td>\n",
       "      <td>0</td>\n",
       "      <td>0</td>\n",
       "      <td>0</td>\n",
       "      <td>0</td>\n",
       "    </tr>\n",
       "    <tr>\n",
       "      <th>4</th>\n",
       "      <td>2006</td>\n",
       "      <td>NaN</td>\n",
       "      <td>18.995</td>\n",
       "      <td>10</td>\n",
       "      <td>0</td>\n",
       "      <td>0</td>\n",
       "      <td>0</td>\n",
       "      <td>0</td>\n",
       "      <td>0</td>\n",
       "      <td>0</td>\n",
       "      <td>...</td>\n",
       "      <td>0</td>\n",
       "      <td>0</td>\n",
       "      <td>2</td>\n",
       "      <td>0</td>\n",
       "      <td>0</td>\n",
       "      <td>0</td>\n",
       "      <td>0</td>\n",
       "      <td>0</td>\n",
       "      <td>1</td>\n",
       "      <td>1</td>\n",
       "    </tr>\n",
       "  </tbody>\n",
       "</table>\n",
       "<p>5 rows × 40 columns</p>\n",
       "</div>"
      ],
      "text/plain": [
       "   gradyear gender     age  friends  basketball  football  soccer  softball  \\\n",
       "0      2006      M  18.982        7           0         0       0         0   \n",
       "1      2006      F  18.801        0           0         1       0         0   \n",
       "2      2006      M  18.335       69           0         1       0         0   \n",
       "3      2006      F  18.875        0           0         0       0         0   \n",
       "4      2006    NaN  18.995       10           0         0       0         0   \n",
       "\n",
       "   volleyball  swimming  ...    blonde  mall  shopping  clothes  hollister  \\\n",
       "0           0         0  ...         0     0         0        0          0   \n",
       "1           0         0  ...         0     1         0        0          0   \n",
       "2           0         0  ...         0     0         0        0          0   \n",
       "3           0         0  ...         0     0         0        0          0   \n",
       "4           0         0  ...         0     0         2        0          0   \n",
       "\n",
       "   abercrombie  die  death  drunk  drugs  \n",
       "0            0    0      0      0      0  \n",
       "1            0    0      0      0      0  \n",
       "2            0    0      1      0      0  \n",
       "3            0    0      0      0      0  \n",
       "4            0    0      0      1      1  \n",
       "\n",
       "[5 rows x 40 columns]"
      ]
     },
     "execution_count": 2,
     "metadata": {},
     "output_type": "execute_result"
    }
   ],
   "source": [
    "datos.head()"
   ]
  },
  {
   "cell_type": "code",
   "execution_count": 3,
   "metadata": {
    "collapsed": false
   },
   "outputs": [
    {
     "name": "stdout",
     "output_type": "stream",
     "text": [
      "<class 'pandas.core.frame.DataFrame'>\n",
      "RangeIndex: 30000 entries, 0 to 29999\n",
      "Data columns (total 40 columns):\n",
      "gradyear        30000 non-null int64\n",
      "gender          27276 non-null object\n",
      "age             24914 non-null float64\n",
      "friends         30000 non-null int64\n",
      "basketball      30000 non-null int64\n",
      "football        30000 non-null int64\n",
      "soccer          30000 non-null int64\n",
      "softball        30000 non-null int64\n",
      "volleyball      30000 non-null int64\n",
      "swimming        30000 non-null int64\n",
      "cheerleading    30000 non-null int64\n",
      "baseball        30000 non-null int64\n",
      "tennis          30000 non-null int64\n",
      "sports          30000 non-null int64\n",
      "cute            30000 non-null int64\n",
      "sex             30000 non-null int64\n",
      "sexy            30000 non-null int64\n",
      "hot             30000 non-null int64\n",
      "kissed          30000 non-null int64\n",
      "dance           30000 non-null int64\n",
      "band            30000 non-null int64\n",
      "marching        30000 non-null int64\n",
      "music           30000 non-null int64\n",
      "rock            30000 non-null int64\n",
      "god             30000 non-null int64\n",
      "church          30000 non-null int64\n",
      "jesus           30000 non-null int64\n",
      "bible           30000 non-null int64\n",
      "hair            30000 non-null int64\n",
      "dress           30000 non-null int64\n",
      "blonde          30000 non-null int64\n",
      "mall            30000 non-null int64\n",
      "shopping        30000 non-null int64\n",
      "clothes         30000 non-null int64\n",
      "hollister       30000 non-null int64\n",
      "abercrombie     30000 non-null int64\n",
      "die             30000 non-null int64\n",
      "death           30000 non-null int64\n",
      "drunk           30000 non-null int64\n",
      "drugs           30000 non-null int64\n",
      "dtypes: float64(1), int64(38), object(1)\n",
      "memory usage: 9.2+ MB\n"
     ]
    }
   ],
   "source": [
    "datos.info()"
   ]
  },
  {
   "cell_type": "markdown",
   "metadata": {},
   "source": [
    "Divido las observaciones de hombres y mujeres:"
   ]
  },
  {
   "cell_type": "code",
   "execution_count": 5,
   "metadata": {
    "collapsed": false
   },
   "outputs": [],
   "source": [
    "datos_F = datos[datos.gender == 'F']\n",
    "datos_M = datos[datos.gender == 'M']"
   ]
  },
  {
   "cell_type": "markdown",
   "metadata": {},
   "source": [
    "Elimino las tres primeras columnas:"
   ]
  },
  {
   "cell_type": "code",
   "execution_count": 15,
   "metadata": {
    "collapsed": false
   },
   "outputs": [
    {
     "name": "stderr",
     "output_type": "stream",
     "text": [
      "C:\\Anaconda2\\lib\\site-packages\\ipykernel\\__main__.py:1: SettingWithCopyWarning: \n",
      "A value is trying to be set on a copy of a slice from a DataFrame\n",
      "\n",
      "See the caveats in the documentation: http://pandas.pydata.org/pandas-docs/stable/indexing.html#indexing-view-versus-copy\n",
      "  if __name__ == '__main__':\n"
     ]
    },
    {
     "data": {
      "text/html": [
       "<div>\n",
       "<table border=\"1\" class=\"dataframe\">\n",
       "  <thead>\n",
       "    <tr style=\"text-align: right;\">\n",
       "      <th></th>\n",
       "      <th>tennis</th>\n",
       "      <th>sports</th>\n",
       "      <th>cute</th>\n",
       "      <th>sex</th>\n",
       "      <th>sexy</th>\n",
       "      <th>hot</th>\n",
       "      <th>kissed</th>\n",
       "      <th>dance</th>\n",
       "      <th>band</th>\n",
       "      <th>marching</th>\n",
       "      <th>...</th>\n",
       "      <th>blonde</th>\n",
       "      <th>mall</th>\n",
       "      <th>shopping</th>\n",
       "      <th>clothes</th>\n",
       "      <th>hollister</th>\n",
       "      <th>abercrombie</th>\n",
       "      <th>die</th>\n",
       "      <th>death</th>\n",
       "      <th>drunk</th>\n",
       "      <th>drugs</th>\n",
       "    </tr>\n",
       "  </thead>\n",
       "  <tbody>\n",
       "    <tr>\n",
       "      <th>1</th>\n",
       "      <td>0</td>\n",
       "      <td>0</td>\n",
       "      <td>1</td>\n",
       "      <td>0</td>\n",
       "      <td>0</td>\n",
       "      <td>0</td>\n",
       "      <td>0</td>\n",
       "      <td>0</td>\n",
       "      <td>0</td>\n",
       "      <td>0</td>\n",
       "      <td>...</td>\n",
       "      <td>0</td>\n",
       "      <td>1</td>\n",
       "      <td>0</td>\n",
       "      <td>0</td>\n",
       "      <td>0</td>\n",
       "      <td>0</td>\n",
       "      <td>0</td>\n",
       "      <td>0</td>\n",
       "      <td>0</td>\n",
       "      <td>0</td>\n",
       "    </tr>\n",
       "    <tr>\n",
       "      <th>3</th>\n",
       "      <td>0</td>\n",
       "      <td>0</td>\n",
       "      <td>1</td>\n",
       "      <td>0</td>\n",
       "      <td>0</td>\n",
       "      <td>0</td>\n",
       "      <td>0</td>\n",
       "      <td>0</td>\n",
       "      <td>0</td>\n",
       "      <td>0</td>\n",
       "      <td>...</td>\n",
       "      <td>0</td>\n",
       "      <td>0</td>\n",
       "      <td>0</td>\n",
       "      <td>0</td>\n",
       "      <td>0</td>\n",
       "      <td>0</td>\n",
       "      <td>0</td>\n",
       "      <td>0</td>\n",
       "      <td>0</td>\n",
       "      <td>0</td>\n",
       "    </tr>\n",
       "    <tr>\n",
       "      <th>5</th>\n",
       "      <td>0</td>\n",
       "      <td>0</td>\n",
       "      <td>0</td>\n",
       "      <td>1</td>\n",
       "      <td>0</td>\n",
       "      <td>0</td>\n",
       "      <td>0</td>\n",
       "      <td>0</td>\n",
       "      <td>0</td>\n",
       "      <td>1</td>\n",
       "      <td>...</td>\n",
       "      <td>0</td>\n",
       "      <td>0</td>\n",
       "      <td>1</td>\n",
       "      <td>0</td>\n",
       "      <td>0</td>\n",
       "      <td>0</td>\n",
       "      <td>0</td>\n",
       "      <td>0</td>\n",
       "      <td>1</td>\n",
       "      <td>0</td>\n",
       "    </tr>\n",
       "    <tr>\n",
       "      <th>6</th>\n",
       "      <td>0</td>\n",
       "      <td>0</td>\n",
       "      <td>0</td>\n",
       "      <td>0</td>\n",
       "      <td>0</td>\n",
       "      <td>0</td>\n",
       "      <td>0</td>\n",
       "      <td>0</td>\n",
       "      <td>1</td>\n",
       "      <td>1</td>\n",
       "      <td>...</td>\n",
       "      <td>0</td>\n",
       "      <td>2</td>\n",
       "      <td>0</td>\n",
       "      <td>0</td>\n",
       "      <td>2</td>\n",
       "      <td>0</td>\n",
       "      <td>0</td>\n",
       "      <td>0</td>\n",
       "      <td>0</td>\n",
       "      <td>0</td>\n",
       "    </tr>\n",
       "    <tr>\n",
       "      <th>8</th>\n",
       "      <td>0</td>\n",
       "      <td>0</td>\n",
       "      <td>0</td>\n",
       "      <td>0</td>\n",
       "      <td>0</td>\n",
       "      <td>0</td>\n",
       "      <td>0</td>\n",
       "      <td>0</td>\n",
       "      <td>0</td>\n",
       "      <td>0</td>\n",
       "      <td>...</td>\n",
       "      <td>0</td>\n",
       "      <td>0</td>\n",
       "      <td>0</td>\n",
       "      <td>0</td>\n",
       "      <td>0</td>\n",
       "      <td>0</td>\n",
       "      <td>0</td>\n",
       "      <td>0</td>\n",
       "      <td>0</td>\n",
       "      <td>0</td>\n",
       "    </tr>\n",
       "  </tbody>\n",
       "</table>\n",
       "<p>5 rows × 28 columns</p>\n",
       "</div>"
      ],
      "text/plain": [
       "   tennis  sports  cute  sex  sexy  hot  kissed  dance  band  marching  ...    \\\n",
       "1       0       0     1    0     0    0       0      0     0         0  ...     \n",
       "3       0       0     1    0     0    0       0      0     0         0  ...     \n",
       "5       0       0     0    1     0    0       0      0     0         1  ...     \n",
       "6       0       0     0    0     0    0       0      0     1         1  ...     \n",
       "8       0       0     0    0     0    0       0      0     0         0  ...     \n",
       "\n",
       "   blonde  mall  shopping  clothes  hollister  abercrombie  die  death  drunk  \\\n",
       "1       0     1         0        0          0            0    0      0      0   \n",
       "3       0     0         0        0          0            0    0      0      0   \n",
       "5       0     0         1        0          0            0    0      0      1   \n",
       "6       0     2         0        0          2            0    0      0      0   \n",
       "8       0     0         0        0          0            0    0      0      0   \n",
       "\n",
       "   drugs  \n",
       "1      0  \n",
       "3      0  \n",
       "5      0  \n",
       "6      0  \n",
       "8      0  \n",
       "\n",
       "[5 rows x 28 columns]"
      ]
     },
     "execution_count": 15,
     "metadata": {},
     "output_type": "execute_result"
    }
   ],
   "source": [
    "datos_F.drop(datos_F.columns[[0,1,2]], axis=1, inplace=True)\n",
    "datos_F.head()"
   ]
  },
  {
   "cell_type": "code",
   "execution_count": 16,
   "metadata": {
    "collapsed": false
   },
   "outputs": [
    {
     "name": "stderr",
     "output_type": "stream",
     "text": [
      "C:\\Anaconda2\\lib\\site-packages\\ipykernel\\__main__.py:1: SettingWithCopyWarning: \n",
      "A value is trying to be set on a copy of a slice from a DataFrame\n",
      "\n",
      "See the caveats in the documentation: http://pandas.pydata.org/pandas-docs/stable/indexing.html#indexing-view-versus-copy\n",
      "  if __name__ == '__main__':\n"
     ]
    },
    {
     "data": {
      "text/html": [
       "<div>\n",
       "<table border=\"1\" class=\"dataframe\">\n",
       "  <thead>\n",
       "    <tr style=\"text-align: right;\">\n",
       "      <th></th>\n",
       "      <th>soccer</th>\n",
       "      <th>softball</th>\n",
       "      <th>volleyball</th>\n",
       "      <th>swimming</th>\n",
       "      <th>cheerleading</th>\n",
       "      <th>baseball</th>\n",
       "      <th>tennis</th>\n",
       "      <th>sports</th>\n",
       "      <th>cute</th>\n",
       "      <th>sex</th>\n",
       "      <th>...</th>\n",
       "      <th>blonde</th>\n",
       "      <th>mall</th>\n",
       "      <th>shopping</th>\n",
       "      <th>clothes</th>\n",
       "      <th>hollister</th>\n",
       "      <th>abercrombie</th>\n",
       "      <th>die</th>\n",
       "      <th>death</th>\n",
       "      <th>drunk</th>\n",
       "      <th>drugs</th>\n",
       "    </tr>\n",
       "  </thead>\n",
       "  <tbody>\n",
       "    <tr>\n",
       "      <th>0</th>\n",
       "      <td>0</td>\n",
       "      <td>0</td>\n",
       "      <td>0</td>\n",
       "      <td>0</td>\n",
       "      <td>0</td>\n",
       "      <td>0</td>\n",
       "      <td>0</td>\n",
       "      <td>0</td>\n",
       "      <td>0</td>\n",
       "      <td>0</td>\n",
       "      <td>...</td>\n",
       "      <td>0</td>\n",
       "      <td>0</td>\n",
       "      <td>0</td>\n",
       "      <td>0</td>\n",
       "      <td>0</td>\n",
       "      <td>0</td>\n",
       "      <td>0</td>\n",
       "      <td>0</td>\n",
       "      <td>0</td>\n",
       "      <td>0</td>\n",
       "    </tr>\n",
       "    <tr>\n",
       "      <th>2</th>\n",
       "      <td>0</td>\n",
       "      <td>0</td>\n",
       "      <td>0</td>\n",
       "      <td>0</td>\n",
       "      <td>0</td>\n",
       "      <td>0</td>\n",
       "      <td>0</td>\n",
       "      <td>0</td>\n",
       "      <td>0</td>\n",
       "      <td>0</td>\n",
       "      <td>...</td>\n",
       "      <td>0</td>\n",
       "      <td>0</td>\n",
       "      <td>0</td>\n",
       "      <td>0</td>\n",
       "      <td>0</td>\n",
       "      <td>0</td>\n",
       "      <td>0</td>\n",
       "      <td>1</td>\n",
       "      <td>0</td>\n",
       "      <td>0</td>\n",
       "    </tr>\n",
       "    <tr>\n",
       "      <th>7</th>\n",
       "      <td>0</td>\n",
       "      <td>1</td>\n",
       "      <td>0</td>\n",
       "      <td>0</td>\n",
       "      <td>0</td>\n",
       "      <td>0</td>\n",
       "      <td>0</td>\n",
       "      <td>0</td>\n",
       "      <td>0</td>\n",
       "      <td>2</td>\n",
       "      <td>...</td>\n",
       "      <td>0</td>\n",
       "      <td>0</td>\n",
       "      <td>0</td>\n",
       "      <td>0</td>\n",
       "      <td>0</td>\n",
       "      <td>0</td>\n",
       "      <td>0</td>\n",
       "      <td>0</td>\n",
       "      <td>0</td>\n",
       "      <td>0</td>\n",
       "    </tr>\n",
       "    <tr>\n",
       "      <th>21</th>\n",
       "      <td>0</td>\n",
       "      <td>0</td>\n",
       "      <td>0</td>\n",
       "      <td>0</td>\n",
       "      <td>0</td>\n",
       "      <td>0</td>\n",
       "      <td>0</td>\n",
       "      <td>0</td>\n",
       "      <td>0</td>\n",
       "      <td>0</td>\n",
       "      <td>...</td>\n",
       "      <td>0</td>\n",
       "      <td>0</td>\n",
       "      <td>0</td>\n",
       "      <td>0</td>\n",
       "      <td>0</td>\n",
       "      <td>1</td>\n",
       "      <td>0</td>\n",
       "      <td>0</td>\n",
       "      <td>0</td>\n",
       "      <td>0</td>\n",
       "    </tr>\n",
       "    <tr>\n",
       "      <th>25</th>\n",
       "      <td>0</td>\n",
       "      <td>0</td>\n",
       "      <td>0</td>\n",
       "      <td>0</td>\n",
       "      <td>0</td>\n",
       "      <td>1</td>\n",
       "      <td>0</td>\n",
       "      <td>0</td>\n",
       "      <td>0</td>\n",
       "      <td>0</td>\n",
       "      <td>...</td>\n",
       "      <td>0</td>\n",
       "      <td>1</td>\n",
       "      <td>0</td>\n",
       "      <td>0</td>\n",
       "      <td>0</td>\n",
       "      <td>0</td>\n",
       "      <td>0</td>\n",
       "      <td>0</td>\n",
       "      <td>0</td>\n",
       "      <td>0</td>\n",
       "    </tr>\n",
       "  </tbody>\n",
       "</table>\n",
       "<p>5 rows × 34 columns</p>\n",
       "</div>"
      ],
      "text/plain": [
       "    soccer  softball  volleyball  swimming  cheerleading  baseball  tennis  \\\n",
       "0        0         0           0         0             0         0       0   \n",
       "2        0         0           0         0             0         0       0   \n",
       "7        0         1           0         0             0         0       0   \n",
       "21       0         0           0         0             0         0       0   \n",
       "25       0         0           0         0             0         1       0   \n",
       "\n",
       "    sports  cute  sex  ...    blonde  mall  shopping  clothes  hollister  \\\n",
       "0        0     0    0  ...         0     0         0        0          0   \n",
       "2        0     0    0  ...         0     0         0        0          0   \n",
       "7        0     0    2  ...         0     0         0        0          0   \n",
       "21       0     0    0  ...         0     0         0        0          0   \n",
       "25       0     0    0  ...         0     1         0        0          0   \n",
       "\n",
       "    abercrombie  die  death  drunk  drugs  \n",
       "0             0    0      0      0      0  \n",
       "2             0    0      1      0      0  \n",
       "7             0    0      0      0      0  \n",
       "21            1    0      0      0      0  \n",
       "25            0    0      0      0      0  \n",
       "\n",
       "[5 rows x 34 columns]"
      ]
     },
     "execution_count": 16,
     "metadata": {},
     "output_type": "execute_result"
    }
   ],
   "source": [
    "datos_M.drop(datos_M.columns[[0,1,2]], axis=1, inplace=True)\n",
    "datos_M.head()"
   ]
  },
  {
   "cell_type": "markdown",
   "metadata": {},
   "source": [
    "### Selección del número de clusters."
   ]
  },
  {
   "cell_type": "markdown",
   "metadata": {},
   "source": [
    "#### Método de evaluación de distorsión"
   ]
  },
  {
   "cell_type": "markdown",
   "metadata": {},
   "source": [
    "Para optimizar el número de clusters observaré la dispersión entre los elementos de cada cluster. El punto en el que la dispersión deja de disminuir con aumento del número de clusters será el número óptimo."
   ]
  },
  {
   "cell_type": "code",
   "execution_count": 31,
   "metadata": {
    "collapsed": false
   },
   "outputs": [],
   "source": [
    "from sklearn.cluster import KMeans\n",
    "from sklearn.metrics import silhouette_score\n",
    "from scipy.spatial.distance import cdist\n",
    "\n",
    "#definición de la función de distorsión\n",
    "def plot_distorsion(x, figure_name, max_k, n_init = 10):\n",
    "    meandistortions = []\n",
    "\n",
    "    for k in range(1, max_k):\n",
    "        kmeans = KMeans(n_clusters = k, n_init = n_init).fit(x)\n",
    "        meandistortions.append(sum(np.min(cdist(x, kmeans.cluster_centers_,\n",
    "                                                'euclidean'), axis = 1))\n",
    "                               / x.shape[0])\n",
    "\n",
    "    plot(range(1, max_k), meandistortions, 'bx-')\n",
    "    xlabel('k')\n",
    "    ylabel('Distorsion promedio')\n",
    "    title(figure_name)"
   ]
  },
  {
   "cell_type": "code",
   "execution_count": 32,
   "metadata": {
    "collapsed": false
   },
   "outputs": [
    {
     "name": "stdout",
     "output_type": "stream",
     "text": [
      "Using matplotlib backend: Qt4Agg\n",
      "Populating the interactive namespace from numpy and matplotlib\n"
     ]
    },
    {
     "data": {
      "image/png": "[encoded data removed]",
      "text/plain": [
       "<matplotlib.figure.Figure at 0xeeffa20>"
      ]
     },
     "metadata": {},
     "output_type": "display_data"
    }
   ],
   "source": [
    "%pylab\n",
    "%matplotlib inline\n",
    "\n",
    "plot_distorsion(datos_F, \"Cluster Mujeres\", max_k=20) # Implementación para mujeres."
   ]
  },
  {
   "cell_type": "markdown",
   "metadata": {},
   "source": [
    "Observamos que en caso de las mujeres a partir de los 7 clustrers la pendiente cambia y la dispersión empieza a disminuir más lentamente. El siguiente punto de inflexión son 15 clusters, a partir de los que la distorsión aumenta."
   ]
  },
  {
   "cell_type": "code",
   "execution_count": 33,
   "metadata": {
    "collapsed": false
   },
   "outputs": [
    {
     "data": {
      "image/png": "[encoded data removed]",
      "text/plain": [
       "<matplotlib.figure.Figure at 0xee1c7b8>"
      ]
     },
     "metadata": {},
     "output_type": "display_data"
    }
   ],
   "source": [
    "plot_distorsion(datos_M, \"Cluster Hombres\", max_k = 20)# implementación para hombres"
   ]
  },
  {
   "cell_type": "markdown",
   "metadata": {},
   "source": [
    "En caso de los hombres la distorsión desciende rápidamente hasta los 5 clusters. A continuación la velocidad del descenso de la disperción baja ligeramente hasta los 11 clusters. A partir de los 11 clusters la mejora es menos visible."
   ]
  },
  {
   "cell_type": "markdown",
   "metadata": {},
   "source": [
    "#### Método de evaluación del coeficiente de Silhouette "
   ]
  },
  {
   "cell_type": "markdown",
   "metadata": {},
   "source": [
    "Este método evalua a distancia de separación entre clusters. Cuanto más separados los clusters mejor. Se comprueba el coeficiente de separación por cada número de clusters para poder elegir el número çoptimo."
   ]
  },
  {
   "cell_type": "code",
   "execution_count": 34,
   "metadata": {
    "collapsed": true
   },
   "outputs": [],
   "source": [
    "from sklearn.metrics import silhouette_score\n",
    "\n",
    "def plot_sillhouette(blobs, figure_name, max_k, n_init = 10):\n",
    "    sillhouette_avgs = []\n",
    "    \n",
    "    for k in range(2, max_k):\n",
    "        kmean = KMeans(n_clusters = k, n_init = n_init).fit(blobs)\n",
    "        sillhouette_avgs.append(silhouette_score(blobs, kmean.labels_))\n",
    "        \n",
    "    plot(range(2, max_k), sillhouette_avgs)\n",
    "    title(figure_name)"
   ]
  },
  {
   "cell_type": "code",
   "execution_count": 35,
   "metadata": {
    "collapsed": false
   },
   "outputs": [
    {
     "data": {
      "image/png": "[encoded data removed]",
      "text/plain": [
       "<matplotlib.figure.Figure at 0xe7d4be0>"
      ]
     },
     "metadata": {},
     "output_type": "display_data"
    }
   ],
   "source": [
    "plot_sillhouette(datos_F, 'Mujeres',max_k = 20) # implementación para mujeres"
   ]
  },
  {
   "cell_type": "markdown",
   "metadata": {},
   "source": [
    "En caso de las mujeres observamos que mayor grado de separación existe con 3 clusters y en segundo lugar con 7 clusters. A partir de los 13 clusters la separación empeora considerablemente."
   ]
  },
  {
   "cell_type": "code",
   "execution_count": 36,
   "metadata": {
    "collapsed": false
   },
   "outputs": [
    {
     "data": {
      "image/png": "[encoded data removed]",
      "text/plain": [
       "<matplotlib.figure.Figure at 0xe9b3208>"
      ]
     },
     "metadata": {},
     "output_type": "display_data"
    }
   ],
   "source": [
    "plot_sillhouette(datos_M, 'Hombres',max_k = 20)"
   ]
  },
  {
   "cell_type": "markdown",
   "metadata": {},
   "source": [
    "En caso de los hombres el grado de separación desciende a partir de los 3 y 5 clusters. A partir de los 13 clusters empeora definitivamente."
   ]
  },
  {
   "cell_type": "markdown",
   "metadata": {},
   "source": [
    "Teniendo en cuenta el resultado del análisis de distorsión y del coeficiente de Silhouette dedido dividir los datos de las mujeres en 7 clusters y los datos de los hombres en 5 clusters. Es el número de clusters a partir del que dejo de obener una mejora considerable a costa de mas clusters.\n",
    "\n",
    "En caso de querer obtener una división más fina el siguiente escalon serían 12 clusters para mujeres y 11 cluster para hombres."
   ]
  },
  {
   "cell_type": "markdown",
   "metadata": {},
   "source": [
    "#### Clusterisación"
   ]
  },
  {
   "cell_type": "markdown",
   "metadata": {},
   "source": [
    "Divido las mujeres en 7 clusters."
   ]
  },
  {
   "cell_type": "code",
   "execution_count": 37,
   "metadata": {
    "collapsed": false
   },
   "outputs": [
    {
     "data": {
      "text/plain": [
       "KMeans(copy_x=True, init='k-means++', max_iter=300, n_clusters=7, n_init=10,\n",
       "    n_jobs=1, precompute_distances='auto', random_state=None, tol=0.0001,\n",
       "    verbose=0)"
      ]
     },
     "execution_count": 37,
     "metadata": {},
     "output_type": "execute_result"
    }
   ],
   "source": [
    "kmeansF = KMeans(n_clusters = 7, n_init = 10).fit(datos_F)\n",
    "kmeansF"
   ]
  },
  {
   "cell_type": "markdown",
   "metadata": {},
   "source": [
    "Puedo ver los centróides. Ellos reflejarían las características medias de cada cluster."
   ]
  },
  {
   "cell_type": "code",
   "execution_count": 38,
   "metadata": {
    "collapsed": false
   },
   "outputs": [
    {
     "data": {
      "text/plain": [
       "array([[  1.08536585e-01,   1.62195122e-01,   4.57317073e-01,\n",
       "          1.81707317e-01,   1.58536585e-01,   1.81707317e-01,\n",
       "          1.08536585e-01,   3.45121951e-01,   3.47560976e-01,\n",
       "          3.90243902e-02,   8.40243902e-01,   2.92682927e-01,\n",
       "          4.68048780e+00,   1.42439024e+00,   6.93902439e-01,\n",
       "          1.46341463e-01,   4.80487805e-01,   1.76829268e-01,\n",
       "          1.23170732e-01,   3.01219512e-01,   4.93902439e-01,\n",
       "          2.30487805e-01,   5.48780488e-02,   5.12195122e-02,\n",
       "          3.75609756e-01,   2.30487805e-01,   1.00000000e-01,\n",
       "          6.34146341e-02],\n",
       "       [  7.29040097e-02,   1.04943403e-01,   3.15789474e-01,\n",
       "          1.01298203e-01,   1.34360811e-01,   1.25727441e-01,\n",
       "          5.42943020e-02,   2.26577988e-01,   9.95715291e-02,\n",
       "          1.44529002e-02,   3.27044830e-01,   1.47023086e-01,\n",
       "          2.68401867e-01,   1.82451877e-01,   7.82758841e-02,\n",
       "          1.17030121e-02,   2.71919166e-01,   9.84843640e-02,\n",
       "          6.60612649e-02,   2.29711582e-01,   3.73217369e-01,\n",
       "          1.18309139e-01,   6.77879389e-02,   4.81550169e-02,\n",
       "          1.28221526e-01,   9.36880476e-02,   6.81076933e-02,\n",
       "          3.21672955e-02],\n",
       "       [  0.00000000e+00,   0.00000000e+00,   1.00000000e+00,\n",
       "          2.20000000e+01,   1.00000000e+00,   0.00000000e+00,\n",
       "          0.00000000e+00,   1.00000000e+00,   1.00000000e+00,\n",
       "          0.00000000e+00,   0.00000000e+00,   1.00000000e+00,\n",
       "          1.00000000e+01,   0.00000000e+00,   1.00000000e+00,\n",
       "          0.00000000e+00,   1.20000000e+01,   2.00000000e+00,\n",
       "          3.27000000e+02,   0.00000000e+00,   0.00000000e+00,\n",
       "          1.00000000e+00,   0.00000000e+00,   0.00000000e+00,\n",
       "          6.00000000e+00,   6.00000000e+00,   6.00000000e+00,\n",
       "          0.00000000e+00],\n",
       "       [  1.01814516e-01,   1.28024194e-01,   6.55241935e-01,\n",
       "          1.68346774e-01,   2.32862903e-01,   2.38911290e-01,\n",
       "          9.67741935e-02,   4.74193548e+00,   3.63911290e-01,\n",
       "          4.43548387e-02,   9.24395161e-01,   3.27620968e-01,\n",
       "          5.08064516e-01,   4.26411290e-01,   1.14919355e-01,\n",
       "          2.52016129e-02,   6.29032258e-01,   3.26612903e-01,\n",
       "          1.18951613e-01,   4.32459677e-01,   6.62298387e-01,\n",
       "          2.47983871e-01,   1.03830645e-01,   9.37500000e-02,\n",
       "          2.39919355e-01,   1.33064516e-01,   1.03830645e-01,\n",
       "          5.74596774e-02],\n",
       "       [  0.00000000e+00,   0.00000000e+00,   0.00000000e+00,\n",
       "          1.14000000e+02,   0.00000000e+00,   0.00000000e+00,\n",
       "          0.00000000e+00,   0.00000000e+00,   0.00000000e+00,\n",
       "          0.00000000e+00,   1.00000000e+00,   1.00000000e+00,\n",
       "          0.00000000e+00,   1.00000000e+01,   0.00000000e+00,\n",
       "          0.00000000e+00,   0.00000000e+00,   0.00000000e+00,\n",
       "          0.00000000e+00,   0.00000000e+00,   0.00000000e+00,\n",
       "          0.00000000e+00,   0.00000000e+00,   0.00000000e+00,\n",
       "          0.00000000e+00,   1.00000000e+00,   0.00000000e+00,\n",
       "          0.00000000e+00],\n",
       "       [  1.03181189e-01,   1.49654219e-01,   4.55325035e-01,\n",
       "          1.75103734e-01,   1.66528354e-01,   1.76486860e-01,\n",
       "          1.21161826e-01,   3.65145228e-01,   1.03264177e+00,\n",
       "          1.49930844e-01,   2.26998617e+00,   4.16320885e-01,\n",
       "          3.84785615e-01,   3.13969571e-01,   1.13692946e-01,\n",
       "          2.60027663e-02,   4.16044260e-01,   1.68464730e-01,\n",
       "          9.04564315e-02,   3.73443983e-01,   5.64038728e-01,\n",
       "          2.09958506e-01,   7.49654219e-02,   5.11756570e-02,\n",
       "          2.19640387e-01,   1.44398340e-01,   9.29460581e-02,\n",
       "          6.91562932e-02],\n",
       "       [  1.61943320e-01,   5.12145749e-01,   1.02834008e+00,\n",
       "          2.42206478e+00,   4.56477733e-01,   3.24898785e-01,\n",
       "          1.13562753e+00,   8.82591093e-01,   6.87246964e-01,\n",
       "          5.26315789e-02,   2.13765182e+00,   1.18724696e+00,\n",
       "          7.92510121e-01,   3.71457490e-01,   1.29554656e-01,\n",
       "          3.44129555e-02,   4.18319838e+00,   3.34008097e-01,\n",
       "          7.81376518e-01,   8.14777328e-01,   7.14574899e-01,\n",
       "          7.34817814e-01,   2.76315789e-01,   2.36842105e-01,\n",
       "          8.17813765e-01,   3.80566802e-01,   4.91902834e-01,\n",
       "          5.79959514e-01]])"
      ]
     },
     "execution_count": 38,
     "metadata": {},
     "output_type": "execute_result"
    }
   ],
   "source": [
    "kmeansF.cluster_centers_"
   ]
  },
  {
   "cell_type": "markdown",
   "metadata": {},
   "source": [
    "Puedo ver por que cada cluster tiene características medias diferentes:"
   ]
  },
  {
   "cell_type": "code",
   "execution_count": 56,
   "metadata": {
    "collapsed": false
   },
   "outputs": [
    {
     "data": {
      "text/plain": [
       "[<matplotlib.lines.Line2D at 0xec2ad30>]"
      ]
     },
     "execution_count": 56,
     "metadata": {},
     "output_type": "execute_result"
    },
    {
     "data": {
      "image/png": "[encoded data removed]",
      "text/plain": [
       "<matplotlib.figure.Figure at 0xec100b8>"
      ]
     },
     "metadata": {},
     "output_type": "display_data"
    }
   ],
   "source": [
    "plot(kmeansF.cluster_centers_[0])"
   ]
  },
  {
   "cell_type": "code",
   "execution_count": 44,
   "metadata": {
    "collapsed": false
   },
   "outputs": [
    {
     "data": {
      "text/plain": [
       "[<matplotlib.lines.Line2D at 0xf4e9cc0>]"
      ]
     },
     "execution_count": 44,
     "metadata": {},
     "output_type": "execute_result"
    },
    {
     "data": {
      "image/png": "[encoded data removed]",
      "text/plain": [
       "<matplotlib.figure.Figure at 0xf3954e0>"
      ]
     },
     "metadata": {},
     "output_type": "display_data"
    }
   ],
   "source": [
    "plot(kmeansF.cluster_centers_[2])"
   ]
  },
  {
   "cell_type": "code",
   "execution_count": 46,
   "metadata": {
    "collapsed": false
   },
   "outputs": [
    {
     "data": {
      "text/plain": [
       "[<matplotlib.lines.Line2D at 0xf983e80>]"
      ]
     },
     "execution_count": 46,
     "metadata": {},
     "output_type": "execute_result"
    },
    {
     "data": {
      "image/png": "[encoded data removed]",
      "text/plain": [
       "<matplotlib.figure.Figure at 0xf7ee320>"
      ]
     },
     "metadata": {},
     "output_type": "display_data"
    }
   ],
   "source": [
    "plot(kmeansF.cluster_centers_[3])"
   ]
  },
  {
   "cell_type": "markdown",
   "metadata": {},
   "source": [
    "Divido los hombres en 6 clusters"
   ]
  },
  {
   "cell_type": "code",
   "execution_count": 58,
   "metadata": {
    "collapsed": false
   },
   "outputs": [],
   "source": [
    "kmeansM = KMeans(n_clusters = 6, n_init = 10).fit(datos_M)"
   ]
  },
  {
   "cell_type": "code",
   "execution_count": 59,
   "metadata": {
    "collapsed": false
   },
   "outputs": [
    {
     "data": {
      "text/plain": [
       "array([[  2.13346815e-01,   5.56117290e-03,   3.33670374e-02,\n",
       "          7.25480283e-02,   6.82507583e-03,   1.19059656e-01,\n",
       "          9.42871587e-02,   1.69362993e-01,   6.16784631e-02,\n",
       "          9.88372093e-02,   7.38119312e-02,   4.55005056e-02,\n",
       "          3.28614762e-02,   1.49140546e-01,   1.56976744e-01,\n",
       "          2.40141557e-02,   2.75025278e-01,   1.62032356e-01,\n",
       "          2.00455005e-01,   1.46107179e-01,   6.97674419e-02,\n",
       "          1.23862487e-02,   1.16531850e-01,   2.19919110e-02,\n",
       "          1.49140546e-02,   1.05662285e-01,   4.19615774e-02,\n",
       "          5.78867543e-02,   3.10920121e-02,   2.12335693e-02,\n",
       "          1.40293225e-01,   7.50758342e-02,   6.16784631e-02,\n",
       "          3.48837209e-02],\n",
       "       [  2.36180905e-01,   1.63316583e-02,   4.64824121e-02,\n",
       "          1.00502513e-01,   1.50753769e-02,   1.31909548e-01,\n",
       "          1.31909548e-01,   2.71356784e-01,   1.01758794e-01,\n",
       "          4.04522613e-01,   1.20603015e-01,   6.40703518e-02,\n",
       "          1.54522613e-01,   4.73618090e-01,   4.39698492e-01,\n",
       "          3.76884422e-02,   2.54899497e+00,   6.00502513e-01,\n",
       "          3.79396985e-01,   2.63819095e-01,   1.30653266e-01,\n",
       "          2.13567839e-02,   4.04522613e-01,   7.41206030e-02,\n",
       "          5.90452261e-02,   2.56281407e-01,   7.66331658e-02,\n",
       "          1.18090452e-01,   3.76884422e-02,   2.63819095e-02,\n",
       "          2.62562814e-01,   1.54522613e-01,   1.16834171e-01,\n",
       "          1.34422111e-01],\n",
       "       [  1.00000000e-01,   3.07692308e-02,   1.53846154e-02,\n",
       "          1.46153846e-01,   2.30769231e-02,   1.00000000e-01,\n",
       "          3.07692308e-01,   1.38461538e-01,   1.53846154e-01,\n",
       "          2.30769231e-01,   1.00000000e-01,   3.84615385e-02,\n",
       "          1.07692308e-01,   2.15384615e-01,   6.02307692e+00,\n",
       "          9.84615385e-01,   2.00769231e+00,   6.23076923e-01,\n",
       "          5.76923077e-01,   3.23076923e-01,   2.30769231e-01,\n",
       "          2.30769231e-02,   3.69230769e-01,   2.30769231e-02,\n",
       "          3.07692308e-02,   1.46153846e-01,   6.92307692e-02,\n",
       "          1.23076923e-01,   3.84615385e-02,   5.38461538e-02,\n",
       "          2.46153846e-01,   2.00000000e-01,   1.07692308e-01,\n",
       "          4.61538462e-02],\n",
       "       [  2.50000000e-01,  -1.73472348e-18,   1.25000000e-01,\n",
       "          2.50000000e-01,   0.00000000e+00,   3.75000000e-01,\n",
       "          1.38777878e-17,   3.75000000e-01,   0.00000000e+00,\n",
       "          3.75000000e-01,   1.25000000e-01,   0.00000000e+00,\n",
       "          6.93889390e-18,  -2.77555756e-17,   0.00000000e+00,\n",
       "          6.93889390e-18,   7.50000000e-01,   1.25000000e-01,\n",
       "          2.80000000e+01,   1.37500000e+00,   1.02500000e+01,\n",
       "          3.62500000e+00,   1.25000000e-01,   3.46944695e-18,\n",
       "          0.00000000e+00,   2.50000000e-01,   0.00000000e+00,\n",
       "          1.25000000e-01,  -6.93889390e-18,   0.00000000e+00,\n",
       "          5.00000000e-01,   1.25000000e+00,   0.00000000e+00,\n",
       "          2.50000000e-01],\n",
       "       [  2.11764706e-01,   4.70588235e-02,   2.94117647e-02,\n",
       "          7.05882353e-02,   5.88235294e-03,   4.71764706e+00,\n",
       "          4.70588235e-02,   5.35294118e-01,   5.29411765e-02,\n",
       "          9.41176471e-02,   7.64705882e-02,   9.41176471e-02,\n",
       "          5.88235294e-02,   1.58823529e-01,   1.52941176e-01,\n",
       "          1.17961196e-16,   5.58823529e-01,   3.64705882e-01,\n",
       "          4.00000000e-01,   3.52941176e-01,   1.17647059e-01,\n",
       "          1.17647059e-02,   1.52941176e-01,   1.17647059e-02,\n",
       "          2.94117647e-02,   1.88235294e-01,   2.35294118e-02,\n",
       "          4.70588235e-02,   4.11764706e-02,   1.76470588e-02,\n",
       "          1.23529412e-01,   5.29411765e-02,   3.52941176e-02,\n",
       "          2.35294118e-02],\n",
       "       [  8.64197531e-02,   6.17283951e-03,   2.46913580e-02,\n",
       "          1.04938272e-01,   1.23456790e-02,   1.48148148e-01,\n",
       "          8.02469136e-02,   2.77777778e-01,   1.11111111e-01,\n",
       "          4.69135802e-01,   9.25925926e-02,   1.17283951e-01,\n",
       "          1.91358025e-01,   3.20987654e-01,   3.33333333e-01,\n",
       "          1.85185185e-02,   8.45679012e-01,   3.58024691e-01,\n",
       "          4.75925926e+00,   7.46913580e-01,   8.70370370e-01,\n",
       "          2.65432099e-01,   5.24691358e-01,   6.17283951e-02,\n",
       "          7.40740741e-02,   2.16049383e-01,   9.25925926e-02,\n",
       "          1.79012346e-01,   3.70370370e-02,   2.46913580e-02,\n",
       "          6.79012346e-01,   4.87654321e-01,   2.22222222e-01,\n",
       "          1.91358025e-01]])"
      ]
     },
     "execution_count": 59,
     "metadata": {},
     "output_type": "execute_result"
    }
   ],
   "source": [
    "kmeansM.cluster_centers_"
   ]
  },
  {
   "cell_type": "markdown",
   "metadata": {},
   "source": [
    "También puedo ver que caracterñisticas de los clusters difieren:"
   ]
  },
  {
   "cell_type": "code",
   "execution_count": 62,
   "metadata": {
    "collapsed": false
   },
   "outputs": [
    {
     "data": {
      "text/plain": [
       "[<matplotlib.lines.Line2D at 0xfe290b8>]"
      ]
     },
     "execution_count": 62,
     "metadata": {},
     "output_type": "execute_result"
    },
    {
     "data": {
      "image/png": "[encoded data removed]",
      "text/plain": [
       "<matplotlib.figure.Figure at 0xef09d68>"
      ]
     },
     "metadata": {},
     "output_type": "display_data"
    }
   ],
   "source": [
    "plot(kmeansM.cluster_centers_[1])"
   ]
  },
  {
   "cell_type": "code",
   "execution_count": 63,
   "metadata": {
    "collapsed": false
   },
   "outputs": [
    {
     "data": {
      "text/plain": [
       "[<matplotlib.lines.Line2D at 0x1ed92978>]"
      ]
     },
     "execution_count": 63,
     "metadata": {},
     "output_type": "execute_result"
    },
    {
     "data": {
      "image/png": "[encoded data removed]",
      "text/plain": [
       "<matplotlib.figure.Figure at 0xff11ac8>"
      ]
     },
     "metadata": {},
     "output_type": "display_data"
    }
   ],
   "source": [
    "plot(kmeansM.cluster_centers_[2])"
   ]
  },
  {
   "cell_type": "markdown",
   "metadata": {},
   "source": [
    "Alternativamente, dividiría de forma más fina en 12 y 11 clusters."
   ]
  },
  {
   "cell_type": "code",
   "execution_count": 64,
   "metadata": {
    "collapsed": true
   },
   "outputs": [],
   "source": [
    "kmeansF_alt = KMeans(n_clusters = 12, n_init = 10).fit(datos_F) # clasificación alternativa mujeres\n",
    "kmeansM_alt = KMeans(n_clusters = 11, n_init = 10).fit(datos_M) # clasificación alternativa hombres"
   ]
  },
  {
   "cell_type": "code",
   "execution_count": 65,
   "metadata": {
    "collapsed": false
   },
   "outputs": [
    {
     "data": {
      "text/plain": [
       "array([[  6.98336926e-02,   1.00169387e-01,   1.31583000e-01,\n",
       "          8.94672005e-02,   1.22343702e-01,   1.05174007e-01,\n",
       "          4.58885125e-02,   2.10886973e-01,   1.06020942e-01,\n",
       "          1.63997536e-02,   3.28149061e-01,   1.40514321e-01,\n",
       "          1.75084694e-01,   1.17031106e-01,   7.03726517e-02,\n",
       "          9.16230366e-03,   1.83400062e-01,   8.06898676e-02,\n",
       "          5.23560209e-02,   1.59454881e-01,   3.00200185e-01,\n",
       "          9.13150601e-02,   5.42038805e-02,   3.90360333e-02,\n",
       "          1.15414229e-01,   8.56174931e-02,   5.86695411e-02,\n",
       "          2.39451802e-02],\n",
       "       [  1.03910615e-01,   1.25139665e-01,   5.25139665e-01,\n",
       "          1.94413408e-01,   2.27932961e-01,   2.44692737e-01,\n",
       "          1.03910615e-01,   4.90614525e+00,   2.97206704e-01,\n",
       "          2.90502793e-02,   9.16201117e-01,   3.37430168e-01,\n",
       "          4.83798883e-01,   3.02793296e-01,   1.06145251e-01,\n",
       "          2.45810056e-02,   5.91061453e-01,   3.16201117e-01,\n",
       "          1.09497207e-01,   4.04469274e-01,   6.48044693e-01,\n",
       "          2.32402235e-01,   1.06145251e-01,   1.01675978e-01,\n",
       "          2.39106145e-01,   1.30726257e-01,   1.06145251e-01,\n",
       "          5.81005587e-02],\n",
       "       [  0.00000000e+00,   0.00000000e+00,   1.00000000e+00,\n",
       "          2.20000000e+01,   1.00000000e+00,   0.00000000e+00,\n",
       "          0.00000000e+00,   1.00000000e+00,   1.00000000e+00,\n",
       "          0.00000000e+00,   0.00000000e+00,   1.00000000e+00,\n",
       "          1.00000000e+01,   0.00000000e+00,   1.00000000e+00,\n",
       "          0.00000000e+00,   1.20000000e+01,   2.00000000e+00,\n",
       "          3.27000000e+02,   0.00000000e+00,   0.00000000e+00,\n",
       "          1.00000000e+00,   0.00000000e+00,   0.00000000e+00,\n",
       "          6.00000000e+00,   6.00000000e+00,   6.00000000e+00,\n",
       "          0.00000000e+00],\n",
       "       [  2.56756757e-01,   9.00900901e-01,   1.31981982e+00,\n",
       "          6.19819820e+00,   6.17117117e-01,   4.00900901e-01,\n",
       "          2.36936937e+00,   1.31981982e+00,   1.31531532e+00,\n",
       "          5.85585586e-02,   4.05855856e+00,   2.21171171e+00,\n",
       "          1.34684685e+00,   4.68468468e-01,   1.48648649e-01,\n",
       "          6.75675676e-02,   4.93243243e+00,   5.27027027e-01,\n",
       "          9.50450450e-01,   8.64864865e-01,   9.72972973e-01,\n",
       "          9.23423423e-01,   3.82882883e-01,   3.19819820e-01,\n",
       "          1.37837838e+00,   6.80180180e-01,   9.45945946e-01,\n",
       "          9.77477477e-01],\n",
       "       [  9.50035186e-02,   1.65376495e-01,   3.02603800e-01,\n",
       "          1.93525686e-01,   1.44968332e-01,   1.49894441e-01,\n",
       "          1.00633357e-01,   3.02603800e-01,   1.90710767e-01,\n",
       "          2.25193526e-02,   7.31175229e-01,   2.56157635e-01,\n",
       "          2.91907108e+00,   3.77902885e-01,   3.21604504e-01,\n",
       "          6.75580577e-02,   3.57494722e-01,   1.52005630e-01,\n",
       "          9.35960591e-02,   2.39971851e-01,   3.83532723e-01,\n",
       "          1.74524982e-01,   5.13722730e-02,   5.27797326e-02,\n",
       "          2.95566502e-01,   1.84377199e-01,   1.00633357e-01,\n",
       "          6.47431386e-02],\n",
       "       [  8.80000000e-02,   1.48210526e-01,   2.80421053e-01,\n",
       "          1.89894737e-01,   1.60000000e-01,   1.44842105e-01,\n",
       "          1.11157895e-01,   3.55368421e-01,   2.33684211e-01,\n",
       "          2.27368421e-02,   2.73768421e+00,   4.40421053e-01,\n",
       "          3.04842105e-01,   1.85684211e-01,   1.00631579e-01,\n",
       "          2.31578947e-02,   3.24210526e-01,   1.30947368e-01,\n",
       "          8.84210526e-02,   2.38315789e-01,   4.49263158e-01,\n",
       "          1.76000000e-01,   6.90526316e-02,   3.95789474e-02,\n",
       "          1.92421053e-01,   1.40210526e-01,   9.17894737e-02,\n",
       "          7.24210526e-02],\n",
       "       [  1.09185442e-01,   1.23050260e-01,   3.69150780e-01,\n",
       "          1.73310225e-01,   1.47313692e-01,   1.02253033e-01,\n",
       "          1.03986135e-01,   4.67937608e-01,   5.13691508e+00,\n",
       "          8.26689775e-01,   1.13864818e+00,   3.17157712e-01,\n",
       "          4.38474870e-01,   2.77296360e-01,   1.26516464e-01,\n",
       "          2.94627383e-02,   4.31542461e-01,   1.94107452e-01,\n",
       "          7.10571924e-02,   2.46100520e-01,   3.98613518e-01,\n",
       "          1.76776430e-01,   2.59965338e-02,   2.25303293e-02,\n",
       "          2.01039861e-01,   1.36915078e-01,   6.58578856e-02,\n",
       "          5.89254766e-02],\n",
       "       [  1.56862745e-01,   1.43790850e-01,   5.38126362e-01,\n",
       "          1.43790850e-01,   1.69934641e-01,   2.00435730e-01,\n",
       "          1.08932462e-01,   5.31590414e-01,   2.85403050e-01,\n",
       "          3.70370370e-02,   8.43137255e-01,   2.94117647e-01,\n",
       "          9.56427015e-01,   4.46405229e+00,   4.66230937e-01,\n",
       "          1.28540305e-01,   5.11982571e-01,   2.28758170e-01,\n",
       "          1.17647059e-01,   5.40305011e-01,   7.23311547e-01,\n",
       "          2.59259259e-01,   8.06100218e-02,   5.01089325e-02,\n",
       "          2.28758170e-01,   1.35076253e-01,   7.84313725e-02,\n",
       "          7.40740741e-02],\n",
       "       [  0.00000000e+00,   0.00000000e+00,   0.00000000e+00,\n",
       "          1.14000000e+02,   0.00000000e+00,   0.00000000e+00,\n",
       "          0.00000000e+00,   0.00000000e+00,   0.00000000e+00,\n",
       "          0.00000000e+00,   1.00000000e+00,   1.00000000e+00,\n",
       "          0.00000000e+00,   1.00000000e+01,   0.00000000e+00,\n",
       "          0.00000000e+00,   0.00000000e+00,   0.00000000e+00,\n",
       "          0.00000000e+00,   0.00000000e+00,   0.00000000e+00,\n",
       "          0.00000000e+00,   0.00000000e+00,   0.00000000e+00,\n",
       "          0.00000000e+00,   1.00000000e+00,   0.00000000e+00,\n",
       "          0.00000000e+00],\n",
       "       [  1.14811569e-01,   3.16389132e-01,   5.53023663e-01,\n",
       "          8.10692375e-01,   2.90096407e-01,   2.66432954e-01,\n",
       "          5.88080631e-01,   6.37160386e-01,   3.79491674e-01,\n",
       "          3.76862401e-02,   1.14986854e+00,   4.92550394e-01,\n",
       "          5.07449606e-01,   2.53286591e-01,   1.14811569e-01,\n",
       "          1.92813322e-02,   3.60999124e+00,   2.62050833e-01,\n",
       "          5.09202454e-01,   6.72217353e-01,   5.81945662e-01,\n",
       "          5.69675723e-01,   2.01577564e-01,   1.77037686e-01,\n",
       "          5.67922875e-01,   2.46275197e-01,   2.99737073e-01,\n",
       "          3.81244522e-01],\n",
       "       [  1.49253731e-02,   1.49253731e-01,   4.02985075e-01,\n",
       "          1.64179104e-01,   1.64179104e-01,   2.98507463e-01,\n",
       "          5.97014925e-02,   3.13432836e-01,   4.32835821e-01,\n",
       "          4.47761194e-02,   1.01492537e+00,   3.13432836e-01,\n",
       "          1.40149254e+01,   1.53731343e+00,   2.11940299e+00,\n",
       "          4.32835821e-01,   4.77611940e-01,   1.04477612e-01,\n",
       "          7.46268657e-02,   1.64179104e-01,   3.13432836e-01,\n",
       "          2.23880597e-01,   4.47761194e-02,   5.97014925e-02,\n",
       "          5.07462687e-01,   3.58208955e-01,   1.49253731e-01,\n",
       "          7.46268657e-02],\n",
       "       [  1.02254851e-01,   1.25852124e-01,   2.06554798e+00,\n",
       "          2.02412166e-01,   2.59045621e-01,   3.17252229e-01,\n",
       "          9.80597798e-02,   4.00104877e-01,   1.55742003e-01,\n",
       "          9.43890928e-03,   5.71578395e-01,   3.21447299e-01,\n",
       "          3.27739906e-01,   2.47509177e-01,   7.76088096e-02,\n",
       "          1.15364447e-02,   5.18091243e-01,   2.35972732e-01,\n",
       "          1.77241741e-01,   9.03513372e-01,   1.09543786e+00,\n",
       "          3.24593603e-01,   1.81436812e-01,   1.19035134e-01,\n",
       "          1.85631883e-01,   1.37912952e-01,   1.14315679e-01,\n",
       "          4.35238595e-02]])"
      ]
     },
     "execution_count": 65,
     "metadata": {},
     "output_type": "execute_result"
    }
   ],
   "source": [
    "kmeansF_alt.cluster_centers_"
   ]
  },
  {
   "cell_type": "code",
   "execution_count": 66,
   "metadata": {
    "collapsed": false
   },
   "outputs": [
    {
     "data": {
      "text/plain": [
       "array([[  9.75609756e-02,   6.96864111e-03,   4.18118467e-02,\n",
       "          1.14982578e-01,   1.39372822e-02,   1.11498258e-01,\n",
       "          1.60278746e-01,   1.39372822e-01,   6.27177700e-02,\n",
       "          8.71080139e-02,   5.92334495e-02,   4.52961672e-02,\n",
       "          3.83275261e-02,   1.32404181e-01,   3.12543554e+00,\n",
       "          5.29616725e-01,   9.33797909e-01,   3.76306620e-01,\n",
       "          4.07665505e-01,   2.12543554e-01,   1.01045296e-01,\n",
       "          1.74216028e-02,   1.46341463e-01,   2.78745645e-02,\n",
       "          2.09059233e-02,   8.71080139e-02,   6.96864111e-02,\n",
       "          6.62020906e-02,   2.78745645e-02,   1.39372822e-02,\n",
       "          1.28919861e-01,   1.60278746e-01,   8.36236934e-02,\n",
       "          3.48432056e-02],\n",
       "       [  0.00000000e+00,   0.00000000e+00,   0.00000000e+00,\n",
       "          4.00000000e-01,   0.00000000e+00,   6.00000000e-01,\n",
       "          0.00000000e+00,   6.00000000e-01,   0.00000000e+00,\n",
       "          4.00000000e-01,   2.00000000e-01,   0.00000000e+00,\n",
       "          0.00000000e+00,   0.00000000e+00,   0.00000000e+00,\n",
       "          0.00000000e+00,   8.00000000e-01,   2.00000000e-01,\n",
       "          3.32000000e+01,   1.80000000e+00,   1.36000000e+01,\n",
       "          5.20000000e+00,   2.00000000e-01,   0.00000000e+00,\n",
       "          0.00000000e+00,   0.00000000e+00,   0.00000000e+00,\n",
       "          2.00000000e-01,   0.00000000e+00,   0.00000000e+00,\n",
       "          8.00000000e-01,   1.20000000e+00,   0.00000000e+00,\n",
       "          0.00000000e+00],\n",
       "       [  9.78858963e-02,   6.08166811e-03,   3.06979438e-02,\n",
       "          6.86359687e-02,   5.79206487e-03,   1.18447727e-01,\n",
       "          8.60121633e-02,   1.65363452e-01,   5.96582682e-02,\n",
       "          7.32696206e-02,   7.32696206e-02,   4.05444541e-02,\n",
       "          2.31682595e-02,   1.13234868e-01,   7.76136693e-02,\n",
       "          1.07153200e-02,   2.70779033e-01,   1.60729800e-01,\n",
       "          1.17578917e-01,   8.10889082e-02,   4.28612800e-02,\n",
       "          7.24008109e-03,   9.29626412e-02,   1.96930206e-02,\n",
       "          9.26730379e-03,   1.04546771e-01,   3.79380249e-02,\n",
       "          4.77845352e-02,   3.06979438e-02,   2.02722270e-02,\n",
       "          1.04546771e-01,   6.71879525e-02,   5.09701709e-02,\n",
       "          2.40370692e-02],\n",
       "       [  1.48148148e-01,   3.70370370e-02,   0.00000000e+00,\n",
       "          2.22222222e-01,   3.70370370e-02,   7.40740741e-02,\n",
       "          5.92592593e-01,   1.48148148e-01,   2.96296296e-01,\n",
       "          3.33333333e-01,   1.11111111e-01,   7.40740741e-02,\n",
       "          1.85185185e-01,   4.44444444e-01,   1.11851852e+01,\n",
       "          1.70370370e+00,   3.92592593e+00,   1.11111111e+00,\n",
       "          8.14814815e-01,   7.40740741e-01,   6.29629630e-01,\n",
       "          7.40740741e-02,   5.55555556e-01,   3.70370370e-02,\n",
       "          3.70370370e-02,   2.96296296e-01,   1.11111111e-01,\n",
       "          2.59259259e-01,   1.11111111e-01,   2.22222222e-01,\n",
       "          2.59259259e-01,   1.48148148e-01,   3.70370370e-02,\n",
       "          3.70370370e-02],\n",
       "       [  9.80392157e-02,   8.40336134e-03,   4.20168067e-02,\n",
       "          1.00840336e-01,   1.40056022e-02,   1.54061625e-01,\n",
       "          1.34453782e-01,   2.29691877e-01,   1.09243697e-01,\n",
       "          1.20448179e-01,   1.12044818e-01,   1.12044818e-01,\n",
       "          6.72268908e-02,   2.10084034e-01,   1.48459384e-01,\n",
       "          2.80112045e-03,   6.02240896e-01,   3.83753501e-01,\n",
       "          2.00560224e+00,   1.10084034e+00,   6.05042017e-01,\n",
       "          9.52380952e-02,   2.80112045e-01,   5.32212885e-02,\n",
       "          3.64145658e-02,   2.01680672e-01,   5.60224090e-02,\n",
       "          1.45658263e-01,   5.32212885e-02,   2.52100840e-02,\n",
       "          6.97478992e-01,   2.60504202e-01,   1.20448179e-01,\n",
       "          8.68347339e-02],\n",
       "       [  2.50000000e-01,   6.93889390e-18,   1.87500000e-01,\n",
       "          8.75000000e-02,  -1.38777878e-17,   1.75000000e-01,\n",
       "          8.75000000e-02,   2.37500000e-01,   1.87500000e-01,\n",
       "          1.00000000e-01,   1.62500000e-01,   5.00000000e-02,\n",
       "          2.50000000e-02,   4.36250000e+00,   2.50000000e-01,\n",
       "          1.25000000e-02,   1.15000000e+00,   6.87500000e-01,\n",
       "          3.50000000e-01,   2.62500000e-01,   1.12500000e-01,\n",
       "          3.75000000e-02,   3.87500000e-01,   8.75000000e-02,\n",
       "          2.50000000e-02,   3.00000000e-01,   1.00000000e-01,\n",
       "          2.12500000e-01,   5.00000000e-02,   6.25000000e-02,\n",
       "          1.62500000e-01,   1.37500000e-01,   2.12500000e-01,\n",
       "          1.37500000e-01],\n",
       "       [  1.56626506e-01,   4.21686747e-02,   3.01204819e-02,\n",
       "          6.62650602e-02,   6.02409639e-03,   4.75301205e+00,\n",
       "          4.81927711e-02,   5.42168675e-01,   4.81927711e-02,\n",
       "          8.43373494e-02,   7.22891566e-02,   9.03614458e-02,\n",
       "          5.42168675e-02,   1.56626506e-01,   1.44578313e-01,\n",
       "          1.31838984e-16,   5.72289157e-01,   3.61445783e-01,\n",
       "          3.73493976e-01,   3.07228916e-01,   1.08433735e-01,\n",
       "          1.20481928e-02,   1.44578313e-01,   1.20481928e-02,\n",
       "          3.01204819e-02,   1.80722892e-01,   2.40963855e-02,\n",
       "          4.81927711e-02,   4.21686747e-02,   1.80722892e-02,\n",
       "          1.14457831e-01,   5.42168675e-02,   3.01204819e-02,\n",
       "          1.80722892e-02],\n",
       "       [  4.83620690e+00,   8.62068966e-03,   4.31034483e-02,\n",
       "          1.29310345e-01,   3.44827586e-02,   1.12068966e-01,\n",
       "          1.72413793e-01,   3.62068966e-01,   1.20689655e-01,\n",
       "          1.46551724e-01,   1.46551724e-01,   1.03448276e-01,\n",
       "          1.03448276e-01,   2.32758621e-01,   2.06896552e-01,\n",
       "          8.62068966e-03,   5.34482759e-01,   2.75862069e-01,\n",
       "          2.58620690e-01,   3.53448276e-01,   1.20689655e-01,\n",
       "          2.58620690e-02,   2.50000000e-01,   2.58620690e-02,\n",
       "          2.06896552e-01,   8.62068966e-02,   6.03448276e-02,\n",
       "          1.20689655e-01,   5.17241379e-02,   3.44827586e-02,\n",
       "          8.62068966e-02,   6.89655172e-02,   1.20689655e-01,\n",
       "          5.17241379e-02],\n",
       "       [  1.73913043e-01,   2.17391304e-02,   2.17391304e-02,\n",
       "          8.69565217e-02,   0.00000000e+00,   1.08695652e-01,\n",
       "          1.08695652e-01,   3.26086957e-01,   8.69565217e-02,\n",
       "          3.26086957e-01,   4.34782609e-02,   4.34782609e-02,\n",
       "          3.04347826e-01,   1.73913043e-01,   4.34782609e-01,\n",
       "          2.17391304e-02,   1.06521739e+00,   1.73913043e-01,\n",
       "          8.97826087e+00,   8.47826087e-01,   1.06521739e+00,\n",
       "          6.30434783e-01,   6.30434783e-01,   6.52173913e-02,\n",
       "          4.34782609e-02,   3.04347826e-01,   6.52173913e-02,\n",
       "          1.73913043e-01,  -1.38777878e-17,   2.17391304e-02,\n",
       "          6.30434783e-01,   6.30434783e-01,   3.91304348e-01,\n",
       "          3.26086957e-01],\n",
       "       [  9.73451327e-02,   3.53982301e-02,   7.07964602e-02,\n",
       "          1.15044248e-01,   6.19469027e-02,   2.30088496e-01,\n",
       "          5.30973451e-02,   2.74336283e-01,   2.30088496e-01,\n",
       "          3.34513274e+00,   2.65486726e-01,   8.84955752e-02,\n",
       "          9.91150442e-01,   4.86725664e-01,   5.48672566e-01,\n",
       "          1.76991150e-02,   1.38053097e+00,   8.31858407e-01,\n",
       "          8.31858407e-01,   2.12389381e-01,   2.47787611e-01,\n",
       "          4.42477876e-02,   2.17699115e+00,   2.21238938e-01,\n",
       "          2.65486726e-01,   5.30973451e-01,   1.85840708e-01,\n",
       "          3.71681416e-01,   4.42477876e-02,   4.42477876e-02,\n",
       "          7.78761062e-01,   3.89380531e-01,   4.69026549e-01,\n",
       "          8.14159292e-01],\n",
       "       [  1.15384615e-01,   1.39860140e-02,   2.44755245e-02,\n",
       "          9.26573427e-02,   5.24475524e-03,   1.22377622e-01,\n",
       "          1.50349650e-01,   2.55244755e-01,   5.94405594e-02,\n",
       "          1.29370629e-01,   7.34265734e-02,   5.76923077e-02,\n",
       "          6.81818182e-02,   1.62587413e-01,   2.86713287e-01,\n",
       "          2.62237762e-02,   2.85664336e+00,   4.21328671e-01,\n",
       "          3.12937063e-01,   1.45104895e-01,   9.96503497e-02,\n",
       "          1.57342657e-02,   1.83566434e-01,   4.37062937e-02,\n",
       "          2.09790210e-02,   1.85314685e-01,   6.64335664e-02,\n",
       "          7.69230769e-02,   2.27272727e-02,   2.09790210e-02,\n",
       "          1.99300699e-01,   1.08391608e-01,   7.34265734e-02,\n",
       "          6.29370629e-02]])"
      ]
     },
     "execution_count": 66,
     "metadata": {},
     "output_type": "execute_result"
    }
   ],
   "source": [
    "kmeansM_alt.cluster_centers_"
   ]
  },
  {
   "cell_type": "code",
   "execution_count": null,
   "metadata": {
    "collapsed": true
   },
   "outputs": [],
   "source": []
  }
 ],
 "metadata": {
  "kernelspec": {
   "display_name": "Python 2",
   "language": "python",
   "name": "python2"
  },
  "language_info": {
   "codemirror_mode": {
    "name": "ipython",
    "version": 2
   },
   "file_extension": ".py",
   "mimetype": "text/x-python",
   "name": "python",
   "nbconvert_exporter": "python",
   "pygments_lexer": "ipython2",
   "version": "2.7.11"
  }
 },
 "nbformat": 4,
 "nbformat_minor": 0
}
