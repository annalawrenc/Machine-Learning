{
 "cells": [
  {
   "cell_type": "markdown",
   "metadata": {},
   "source": [
    "# Ejercicios Aprendizaje Automático.\n",
    "\n",
    "Instrucciones.\n",
    "\n",
    "La solución de los ejercicios se ha de entregar en un archivo en formato IPython Notebook. Este\n",
    "archivo ha de contener tanto el código necesario para para la resolución de los problemas como\n",
    "los comentarios en los que explican los resultados. Los archivos necesarios para la solución de los\n",
    "problemas se han cargar desde la misma carpeta en la que encuentre el Notebook utilizando\n",
    "siempre rutas relativas.\n",
    "\n",
    "\n",
    "Cada ejercicio tiene una puntuación diferente que se muestra en su enunciado.\n",
    "\n",
    "1. Reglas de asociación. (10 puntos)\n",
    "\n",
    "En el “groceries.csv” contiene las transacciones recogidas durante un mes en una tienda de\n",
    "comestibles. En cada una de las filas de este archivo se encuentran los artículos comprados de\n",
    "forma conjunta por los diferentes clientes. Obtener las lista de artículos que tiene un soporte\n",
    "mínimo de 0,15. Obtener también las reglas de asociación que se pueden deducir de este\n",
    "conjunto de datos con un soporte mínimo de 0,05 y confianza de 0,25.\n",
    "\n",
    "La importación del archivo se puede realizar utilizando el siguiente código:\n",
    "\n",
    "import csv\n",
    "\n",
    "groceries = [ ]\n",
    "\n",
    "groceries_file = csv.reader(open(\"groceries.csv\", \"rb\"))\n",
    "\n",
    "for row in groceries_file:\n",
    "\n",
    "groceries.append(row)"
   ]
  },
  {
   "cell_type": "code",
   "execution_count": 1,
   "metadata": {
    "collapsed": true
   },
   "outputs": [],
   "source": [
    "# Importamos algunas librerías\n",
    "import numpy as np\n",
    "import pandas as pd\n",
    "import csv"
   ]
  },
  {
   "cell_type": "code",
   "execution_count": 8,
   "metadata": {
    "collapsed": false
   },
   "outputs": [
    {
     "data": {
      "text/plain": [
       "[['citrus fruit', 'semi-finished bread', 'margarine', 'ready soups'],\n",
       " ['tropical fruit', 'yogurt', 'coffee'],\n",
       " ['whole milk'],\n",
       " ['pip fruit', 'yogurt', 'cream cheese ', 'meat spreads'],\n",
       " ['other vegetables',\n",
       "  'whole milk',\n",
       "  'condensed milk',\n",
       "  'long life bakery product'],\n",
       " ['whole milk', 'butter', 'yogurt', 'rice', 'abrasive cleaner'],\n",
       " ['rolls/buns'],\n",
       " ['other vegetables',\n",
       "  'UHT-milk',\n",
       "  'rolls/buns',\n",
       "  'bottled beer',\n",
       "  'liquor (appetizer)'],\n",
       " ['pot plants'],\n",
       " ['whole milk', 'cereals']]"
      ]
     },
     "execution_count": 8,
     "metadata": {},
     "output_type": "execute_result"
    }
   ],
   "source": [
    "# Cargamos el fichero CSV con los datos de tickets\n",
    "groceries = []\n",
    "groceries_file = csv.reader(open(\"groceries.csv\", \"rb\"))\n",
    "for row in groceries_file:\n",
    "    groceries.append(row)\n",
    "groceries [:10]"
   ]
  },
  {
   "cell_type": "code",
   "execution_count": 9,
   "metadata": {
    "collapsed": false
   },
   "outputs": [],
   "source": [
    "# Importamos la librería apriori.py (descargada previamente de la url sugerida en el enunciado del ejercicio)\n",
    "import apriori"
   ]
  },
  {
   "cell_type": "code",
   "execution_count": 6,
   "metadata": {
    "collapsed": false
   },
   "outputs": [
    {
     "name": "stdout",
     "output_type": "stream",
     "text": [
      "{soda}:  sup = 0.174\n",
      "{whole milk}:  sup = 0.256\n",
      "{other vegetables}:  sup = 0.193\n",
      "{rolls/buns}:  sup = 0.184\n"
     ]
    }
   ],
   "source": [
    "\n",
    "# Ejecutamos el algoritmo apriori para obtener los k-items frecuentes (F) y el soporte de cada uno de ellos\n",
    "\n",
    "F, soporte = apriori.apriori(groceries, min_support=0.15, verbose=True)\n"
   ]
  },
  {
   "cell_type": "code",
   "execution_count": 7,
   "metadata": {
    "collapsed": false
   },
   "outputs": [
    {
     "name": "stdout",
     "output_type": "stream",
     "text": [
      "{citrus fruit}:  sup = 0.083\n",
      "{curd}:  sup = 0.053\n",
      "{root vegetables}:  sup = 0.109\n",
      "{shopping bags}:  sup = 0.099\n",
      "{bottled beer}:  sup = 0.081\n",
      "{butter}:  sup = 0.055\n",
      "{newspapers}:  sup = 0.08\n",
      "{napkins}:  sup = 0.052\n",
      "{pip fruit}:  sup = 0.076\n",
      "{domestic eggs}:  sup = 0.063\n",
      "{bottled water}:  sup = 0.111\n",
      "{tropical fruit}:  sup = 0.105\n",
      "{soda}:  sup = 0.174\n",
      "{whole milk}:  sup = 0.256\n",
      "{other vegetables}:  sup = 0.193\n",
      "{canned beer}:  sup = 0.078\n",
      "{frankfurter}:  sup = 0.059\n",
      "{sausage}:  sup = 0.094\n",
      "{yogurt}:  sup = 0.14\n",
      "{pastry}:  sup = 0.089\n",
      "{margarine}:  sup = 0.059\n",
      "{coffee}:  sup = 0.058\n",
      "{brown bread}:  sup = 0.065\n",
      "{fruit/vegetable juice}:  sup = 0.072\n",
      "{whipped/sour cream}:  sup = 0.072\n",
      "{pork}:  sup = 0.058\n",
      "{rolls/buns}:  sup = 0.184\n",
      "{beef}:  sup = 0.052\n",
      "{whole milk, yogurt}:  sup = 0.056\n",
      "{whole milk, rolls/buns}:  sup = 0.057\n",
      "{whole milk, other vegetables}:  sup = 0.075\n"
     ]
    }
   ],
   "source": [
    "# Primero calculamos el soporte mínimo de 0,05\n",
    "F, soporte = apriori.apriori(groceries, min_support=0.05, verbose=True)"
   ]
  },
  {
   "cell_type": "code",
   "execution_count": 10,
   "metadata": {
    "collapsed": false
   },
   "outputs": [
    {
     "name": "stdout",
     "output_type": "stream",
     "text": [
      "{yogurt} ---> {whole milk}:  conf = 0.402, sup = 0.056\n",
      "{rolls/buns} ---> {whole milk}:  conf = 0.308, sup = 0.057\n",
      "{other vegetables} ---> {whole milk}:  conf = 0.387, sup = 0.075\n",
      "{whole milk} ---> {other vegetables}:  conf = 0.293, sup = 0.075\n"
     ]
    }
   ],
   "source": [
    "# A continuación calculamos las reglas de asociación con una confianza de 0,25.\n",
    "H1 = apriori.generate_rules(F, soporte, min_confidence=0.25, verbose=True)"
   ]
  },
  {
   "cell_type": "code",
   "execution_count": null,
   "metadata": {
    "collapsed": true
   },
   "outputs": [],
   "source": []
  }
 ],
 "metadata": {
  "kernelspec": {
   "display_name": "Python 2",
   "language": "python",
   "name": "python2"
  },
  "language_info": {
   "codemirror_mode": {
    "name": "ipython",
    "version": 2
   },
   "file_extension": ".py",
   "mimetype": "text/x-python",
   "name": "python",
   "nbconvert_exporter": "python",
   "pygments_lexer": "ipython2",
   "version": "2.7.11"
  }
 },
 "nbformat": 4,
 "nbformat_minor": 0
}
