{
 "cells": [
  {
   "cell_type": "markdown",
   "metadata": {},
   "source": [
    "# Segmentación de datos de redes sociales."
   ]
  },
  {
   "cell_type": "markdown",
   "metadata": {},
   "source": [
    "En el archivo “snsdata.csv” se encuentra los términos más utilizados en unos 30.000 perfiles aleatorios de adolescentes de una red social. \n",
    "Voy a importar el archivo y separar el conjunto de datos en dos según el género de los usuarios (F y M). En cada uno de los subconjuntos de datos eliminaré el año de graduación ('gradyear'), el género ('gender') y la edad (‘age’). \n",
    "\n",
    "Utilizando el algoritmo de k-means identificaré el número de segmentos óptimos en los que se divide cada subconjunto de datos y obtendré los valores de los centroides."
   ]
  },
  {
   "cell_type": "code",
   "execution_count": 9,
   "metadata": {
    "collapsed": true
   },
   "outputs": [],
   "source": [
    "import pandas as pd\n",
    "\n",
    "datos = pd.read_csv('snsdata.csv', sep = ',') # importación de datos en un data frame de pandas"
   ]
  },
  {
   "cell_type": "code",
   "execution_count": 10,
   "metadata": {
    "collapsed": false
   },
   "outputs": [
    {
     "data": {
      "text/html": [
       "<div>\n",
       "<table border=\"1\" class=\"dataframe\">\n",
       "  <thead>\n",
       "    <tr style=\"text-align: right;\">\n",
       "      <th></th>\n",
       "      <th>gradyear</th>\n",
       "      <th>gender</th>\n",
       "      <th>age</th>\n",
       "      <th>friends</th>\n",
       "      <th>basketball</th>\n",
       "      <th>football</th>\n",
       "      <th>soccer</th>\n",
       "      <th>softball</th>\n",
       "      <th>volleyball</th>\n",
       "      <th>swimming</th>\n",
       "      <th>...</th>\n",
       "      <th>blonde</th>\n",
       "      <th>mall</th>\n",
       "      <th>shopping</th>\n",
       "      <th>clothes</th>\n",
       "      <th>hollister</th>\n",
       "      <th>abercrombie</th>\n",
       "      <th>die</th>\n",
       "      <th>death</th>\n",
       "      <th>drunk</th>\n",
       "      <th>drugs</th>\n",
       "    </tr>\n",
       "  </thead>\n",
       "  <tbody>\n",
       "    <tr>\n",
       "      <th>0</th>\n",
       "      <td>2006</td>\n",
       "      <td>M</td>\n",
       "      <td>18.982</td>\n",
       "      <td>7</td>\n",
       "      <td>0</td>\n",
       "      <td>0</td>\n",
       "      <td>0</td>\n",
       "      <td>0</td>\n",
       "      <td>0</td>\n",
       "      <td>0</td>\n",
       "      <td>...</td>\n",
       "      <td>0</td>\n",
       "      <td>0</td>\n",
       "      <td>0</td>\n",
       "      <td>0</td>\n",
       "      <td>0</td>\n",
       "      <td>0</td>\n",
       "      <td>0</td>\n",
       "      <td>0</td>\n",
       "      <td>0</td>\n",
       "      <td>0</td>\n",
       "    </tr>\n",
       "    <tr>\n",
       "      <th>1</th>\n",
       "      <td>2006</td>\n",
       "      <td>F</td>\n",
       "      <td>18.801</td>\n",
       "      <td>0</td>\n",
       "      <td>0</td>\n",
       "      <td>1</td>\n",
       "      <td>0</td>\n",
       "      <td>0</td>\n",
       "      <td>0</td>\n",
       "      <td>0</td>\n",
       "      <td>...</td>\n",
       "      <td>0</td>\n",
       "      <td>1</td>\n",
       "      <td>0</td>\n",
       "      <td>0</td>\n",
       "      <td>0</td>\n",
       "      <td>0</td>\n",
       "      <td>0</td>\n",
       "      <td>0</td>\n",
       "      <td>0</td>\n",
       "      <td>0</td>\n",
       "    </tr>\n",
       "    <tr>\n",
       "      <th>2</th>\n",
       "      <td>2006</td>\n",
       "      <td>M</td>\n",
       "      <td>18.335</td>\n",
       "      <td>69</td>\n",
       "      <td>0</td>\n",
       "      <td>1</td>\n",
       "      <td>0</td>\n",
       "      <td>0</td>\n",
       "      <td>0</td>\n",
       "      <td>0</td>\n",
       "      <td>...</td>\n",
       "      <td>0</td>\n",
       "      <td>0</td>\n",
       "      <td>0</td>\n",
       "      <td>0</td>\n",
       "      <td>0</td>\n",
       "      <td>0</td>\n",
       "      <td>0</td>\n",
       "      <td>1</td>\n",
       "      <td>0</td>\n",
       "      <td>0</td>\n",
       "    </tr>\n",
       "    <tr>\n",
       "      <th>3</th>\n",
       "      <td>2006</td>\n",
       "      <td>F</td>\n",
       "      <td>18.875</td>\n",
       "      <td>0</td>\n",
       "      <td>0</td>\n",
       "      <td>0</td>\n",
       "      <td>0</td>\n",
       "      <td>0</td>\n",
       "      <td>0</td>\n",
       "      <td>0</td>\n",
       "      <td>...</td>\n",
       "      <td>0</td>\n",
       "      <td>0</td>\n",
       "      <td>0</td>\n",
       "      <td>0</td>\n",
       "      <td>0</td>\n",
       "      <td>0</td>\n",
       "      <td>0</td>\n",
       "      <td>0</td>\n",
       "      <td>0</td>\n",
       "      <td>0</td>\n",
       "    </tr>\n",
       "    <tr>\n",
       "      <th>4</th>\n",
       "      <td>2006</td>\n",
       "      <td>NaN</td>\n",
       "      <td>18.995</td>\n",
       "      <td>10</td>\n",
       "      <td>0</td>\n",
       "      <td>0</td>\n",
       "      <td>0</td>\n",
       "      <td>0</td>\n",
       "      <td>0</td>\n",
       "      <td>0</td>\n",
       "      <td>...</td>\n",
       "      <td>0</td>\n",
       "      <td>0</td>\n",
       "      <td>2</td>\n",
       "      <td>0</td>\n",
       "      <td>0</td>\n",
       "      <td>0</td>\n",
       "      <td>0</td>\n",
       "      <td>0</td>\n",
       "      <td>1</td>\n",
       "      <td>1</td>\n",
       "    </tr>\n",
       "  </tbody>\n",
       "</table>\n",
       "<p>5 rows × 40 columns</p>\n",
       "</div>"
      ],
      "text/plain": [
       "   gradyear gender     age  friends  basketball  football  soccer  softball  \\\n",
       "0      2006      M  18.982        7           0         0       0         0   \n",
       "1      2006      F  18.801        0           0         1       0         0   \n",
       "2      2006      M  18.335       69           0         1       0         0   \n",
       "3      2006      F  18.875        0           0         0       0         0   \n",
       "4      2006    NaN  18.995       10           0         0       0         0   \n",
       "\n",
       "   volleyball  swimming  ...    blonde  mall  shopping  clothes  hollister  \\\n",
       "0           0         0  ...         0     0         0        0          0   \n",
       "1           0         0  ...         0     1         0        0          0   \n",
       "2           0         0  ...         0     0         0        0          0   \n",
       "3           0         0  ...         0     0         0        0          0   \n",
       "4           0         0  ...         0     0         2        0          0   \n",
       "\n",
       "   abercrombie  die  death  drunk  drugs  \n",
       "0            0    0      0      0      0  \n",
       "1            0    0      0      0      0  \n",
       "2            0    0      1      0      0  \n",
       "3            0    0      0      0      0  \n",
       "4            0    0      0      1      1  \n",
       "\n",
       "[5 rows x 40 columns]"
      ]
     },
     "execution_count": 10,
     "metadata": {},
     "output_type": "execute_result"
    }
   ],
   "source": [
    "datos.head()"
   ]
  },
  {
   "cell_type": "code",
   "execution_count": 11,
   "metadata": {
    "collapsed": false
   },
   "outputs": [
    {
     "name": "stdout",
     "output_type": "stream",
     "text": [
      "<class 'pandas.core.frame.DataFrame'>\n",
      "RangeIndex: 30000 entries, 0 to 29999\n",
      "Data columns (total 40 columns):\n",
      "gradyear        30000 non-null int64\n",
      "gender          27276 non-null object\n",
      "age             24914 non-null float64\n",
      "friends         30000 non-null int64\n",
      "basketball      30000 non-null int64\n",
      "football        30000 non-null int64\n",
      "soccer          30000 non-null int64\n",
      "softball        30000 non-null int64\n",
      "volleyball      30000 non-null int64\n",
      "swimming        30000 non-null int64\n",
      "cheerleading    30000 non-null int64\n",
      "baseball        30000 non-null int64\n",
      "tennis          30000 non-null int64\n",
      "sports          30000 non-null int64\n",
      "cute            30000 non-null int64\n",
      "sex             30000 non-null int64\n",
      "sexy            30000 non-null int64\n",
      "hot             30000 non-null int64\n",
      "kissed          30000 non-null int64\n",
      "dance           30000 non-null int64\n",
      "band            30000 non-null int64\n",
      "marching        30000 non-null int64\n",
      "music           30000 non-null int64\n",
      "rock            30000 non-null int64\n",
      "god             30000 non-null int64\n",
      "church          30000 non-null int64\n",
      "jesus           30000 non-null int64\n",
      "bible           30000 non-null int64\n",
      "hair            30000 non-null int64\n",
      "dress           30000 non-null int64\n",
      "blonde          30000 non-null int64\n",
      "mall            30000 non-null int64\n",
      "shopping        30000 non-null int64\n",
      "clothes         30000 non-null int64\n",
      "hollister       30000 non-null int64\n",
      "abercrombie     30000 non-null int64\n",
      "die             30000 non-null int64\n",
      "death           30000 non-null int64\n",
      "drunk           30000 non-null int64\n",
      "drugs           30000 non-null int64\n",
      "dtypes: float64(1), int64(38), object(1)\n",
      "memory usage: 9.2+ MB\n"
     ]
    }
   ],
   "source": [
    "datos.info()"
   ]
  },
  {
   "cell_type": "markdown",
   "metadata": {},
   "source": [
    "Divido las observaciones de hombres y mujeres:"
   ]
  },
  {
   "cell_type": "code",
   "execution_count": 12,
   "metadata": {
    "collapsed": false
   },
   "outputs": [],
   "source": [
    "datos_F = datos[datos.gender == 'F']\n",
    "datos_M = datos[datos.gender == 'M']"
   ]
  },
  {
   "cell_type": "markdown",
   "metadata": {},
   "source": [
    "Elimino las tres primeras columnas:"
   ]
  },
  {
   "cell_type": "code",
   "execution_count": 13,
   "metadata": {
    "collapsed": false
   },
   "outputs": [],
   "source": [
    "del datos_F['gradyear']\n",
    "del datos_F['gender']\n",
    "del datos_F['age']\n",
    "\n",
    "del datos_M['gradyear']\n",
    "del datos_M['gender']\n",
    "del datos_M['age']"
   ]
  },
  {
   "cell_type": "code",
   "execution_count": 14,
   "metadata": {
    "collapsed": false
   },
   "outputs": [
    {
     "data": {
      "text/html": [
       "<div>\n",
       "<table border=\"1\" class=\"dataframe\">\n",
       "  <thead>\n",
       "    <tr style=\"text-align: right;\">\n",
       "      <th></th>\n",
       "      <th>friends</th>\n",
       "      <th>basketball</th>\n",
       "      <th>football</th>\n",
       "      <th>soccer</th>\n",
       "      <th>softball</th>\n",
       "      <th>volleyball</th>\n",
       "      <th>swimming</th>\n",
       "      <th>cheerleading</th>\n",
       "      <th>baseball</th>\n",
       "      <th>tennis</th>\n",
       "      <th>...</th>\n",
       "      <th>blonde</th>\n",
       "      <th>mall</th>\n",
       "      <th>shopping</th>\n",
       "      <th>clothes</th>\n",
       "      <th>hollister</th>\n",
       "      <th>abercrombie</th>\n",
       "      <th>die</th>\n",
       "      <th>death</th>\n",
       "      <th>drunk</th>\n",
       "      <th>drugs</th>\n",
       "    </tr>\n",
       "  </thead>\n",
       "  <tbody>\n",
       "    <tr>\n",
       "      <th>1</th>\n",
       "      <td>0</td>\n",
       "      <td>0</td>\n",
       "      <td>1</td>\n",
       "      <td>0</td>\n",
       "      <td>0</td>\n",
       "      <td>0</td>\n",
       "      <td>0</td>\n",
       "      <td>0</td>\n",
       "      <td>0</td>\n",
       "      <td>0</td>\n",
       "      <td>...</td>\n",
       "      <td>0</td>\n",
       "      <td>1</td>\n",
       "      <td>0</td>\n",
       "      <td>0</td>\n",
       "      <td>0</td>\n",
       "      <td>0</td>\n",
       "      <td>0</td>\n",
       "      <td>0</td>\n",
       "      <td>0</td>\n",
       "      <td>0</td>\n",
       "    </tr>\n",
       "    <tr>\n",
       "      <th>3</th>\n",
       "      <td>0</td>\n",
       "      <td>0</td>\n",
       "      <td>0</td>\n",
       "      <td>0</td>\n",
       "      <td>0</td>\n",
       "      <td>0</td>\n",
       "      <td>0</td>\n",
       "      <td>0</td>\n",
       "      <td>0</td>\n",
       "      <td>0</td>\n",
       "      <td>...</td>\n",
       "      <td>0</td>\n",
       "      <td>0</td>\n",
       "      <td>0</td>\n",
       "      <td>0</td>\n",
       "      <td>0</td>\n",
       "      <td>0</td>\n",
       "      <td>0</td>\n",
       "      <td>0</td>\n",
       "      <td>0</td>\n",
       "      <td>0</td>\n",
       "    </tr>\n",
       "    <tr>\n",
       "      <th>5</th>\n",
       "      <td>142</td>\n",
       "      <td>0</td>\n",
       "      <td>0</td>\n",
       "      <td>0</td>\n",
       "      <td>0</td>\n",
       "      <td>0</td>\n",
       "      <td>0</td>\n",
       "      <td>0</td>\n",
       "      <td>0</td>\n",
       "      <td>0</td>\n",
       "      <td>...</td>\n",
       "      <td>0</td>\n",
       "      <td>0</td>\n",
       "      <td>1</td>\n",
       "      <td>0</td>\n",
       "      <td>0</td>\n",
       "      <td>0</td>\n",
       "      <td>0</td>\n",
       "      <td>0</td>\n",
       "      <td>1</td>\n",
       "      <td>0</td>\n",
       "    </tr>\n",
       "    <tr>\n",
       "      <th>6</th>\n",
       "      <td>72</td>\n",
       "      <td>0</td>\n",
       "      <td>0</td>\n",
       "      <td>0</td>\n",
       "      <td>0</td>\n",
       "      <td>0</td>\n",
       "      <td>0</td>\n",
       "      <td>0</td>\n",
       "      <td>0</td>\n",
       "      <td>0</td>\n",
       "      <td>...</td>\n",
       "      <td>0</td>\n",
       "      <td>2</td>\n",
       "      <td>0</td>\n",
       "      <td>0</td>\n",
       "      <td>2</td>\n",
       "      <td>0</td>\n",
       "      <td>0</td>\n",
       "      <td>0</td>\n",
       "      <td>0</td>\n",
       "      <td>0</td>\n",
       "    </tr>\n",
       "    <tr>\n",
       "      <th>8</th>\n",
       "      <td>52</td>\n",
       "      <td>0</td>\n",
       "      <td>0</td>\n",
       "      <td>0</td>\n",
       "      <td>0</td>\n",
       "      <td>0</td>\n",
       "      <td>0</td>\n",
       "      <td>0</td>\n",
       "      <td>0</td>\n",
       "      <td>0</td>\n",
       "      <td>...</td>\n",
       "      <td>0</td>\n",
       "      <td>0</td>\n",
       "      <td>0</td>\n",
       "      <td>0</td>\n",
       "      <td>0</td>\n",
       "      <td>0</td>\n",
       "      <td>0</td>\n",
       "      <td>0</td>\n",
       "      <td>0</td>\n",
       "      <td>0</td>\n",
       "    </tr>\n",
       "  </tbody>\n",
       "</table>\n",
       "<p>5 rows × 37 columns</p>\n",
       "</div>"
      ],
      "text/plain": [
       "   friends  basketball  football  soccer  softball  volleyball  swimming  \\\n",
       "1        0           0         1       0         0           0         0   \n",
       "3        0           0         0       0         0           0         0   \n",
       "5      142           0         0       0         0           0         0   \n",
       "6       72           0         0       0         0           0         0   \n",
       "8       52           0         0       0         0           0         0   \n",
       "\n",
       "   cheerleading  baseball  tennis  ...    blonde  mall  shopping  clothes  \\\n",
       "1             0         0       0  ...         0     1         0        0   \n",
       "3             0         0       0  ...         0     0         0        0   \n",
       "5             0         0       0  ...         0     0         1        0   \n",
       "6             0         0       0  ...         0     2         0        0   \n",
       "8             0         0       0  ...         0     0         0        0   \n",
       "\n",
       "   hollister  abercrombie  die  death  drunk  drugs  \n",
       "1          0            0    0      0      0      0  \n",
       "3          0            0    0      0      0      0  \n",
       "5          0            0    0      0      1      0  \n",
       "6          2            0    0      0      0      0  \n",
       "8          0            0    0      0      0      0  \n",
       "\n",
       "[5 rows x 37 columns]"
      ]
     },
     "execution_count": 14,
     "metadata": {},
     "output_type": "execute_result"
    }
   ],
   "source": [
    "datos_F.head()"
   ]
  },
  {
   "cell_type": "code",
   "execution_count": 16,
   "metadata": {
    "collapsed": false
   },
   "outputs": [
    {
     "data": {
      "text/html": [
       "<div>\n",
       "<table border=\"1\" class=\"dataframe\">\n",
       "  <thead>\n",
       "    <tr style=\"text-align: right;\">\n",
       "      <th></th>\n",
       "      <th>friends</th>\n",
       "      <th>basketball</th>\n",
       "      <th>football</th>\n",
       "      <th>soccer</th>\n",
       "      <th>softball</th>\n",
       "      <th>volleyball</th>\n",
       "      <th>swimming</th>\n",
       "      <th>cheerleading</th>\n",
       "      <th>baseball</th>\n",
       "      <th>tennis</th>\n",
       "      <th>...</th>\n",
       "      <th>blonde</th>\n",
       "      <th>mall</th>\n",
       "      <th>shopping</th>\n",
       "      <th>clothes</th>\n",
       "      <th>hollister</th>\n",
       "      <th>abercrombie</th>\n",
       "      <th>die</th>\n",
       "      <th>death</th>\n",
       "      <th>drunk</th>\n",
       "      <th>drugs</th>\n",
       "    </tr>\n",
       "  </thead>\n",
       "  <tbody>\n",
       "    <tr>\n",
       "      <th>0</th>\n",
       "      <td>7</td>\n",
       "      <td>0</td>\n",
       "      <td>0</td>\n",
       "      <td>0</td>\n",
       "      <td>0</td>\n",
       "      <td>0</td>\n",
       "      <td>0</td>\n",
       "      <td>0</td>\n",
       "      <td>0</td>\n",
       "      <td>0</td>\n",
       "      <td>...</td>\n",
       "      <td>0</td>\n",
       "      <td>0</td>\n",
       "      <td>0</td>\n",
       "      <td>0</td>\n",
       "      <td>0</td>\n",
       "      <td>0</td>\n",
       "      <td>0</td>\n",
       "      <td>0</td>\n",
       "      <td>0</td>\n",
       "      <td>0</td>\n",
       "    </tr>\n",
       "    <tr>\n",
       "      <th>2</th>\n",
       "      <td>69</td>\n",
       "      <td>0</td>\n",
       "      <td>1</td>\n",
       "      <td>0</td>\n",
       "      <td>0</td>\n",
       "      <td>0</td>\n",
       "      <td>0</td>\n",
       "      <td>0</td>\n",
       "      <td>0</td>\n",
       "      <td>0</td>\n",
       "      <td>...</td>\n",
       "      <td>0</td>\n",
       "      <td>0</td>\n",
       "      <td>0</td>\n",
       "      <td>0</td>\n",
       "      <td>0</td>\n",
       "      <td>0</td>\n",
       "      <td>0</td>\n",
       "      <td>1</td>\n",
       "      <td>0</td>\n",
       "      <td>0</td>\n",
       "    </tr>\n",
       "    <tr>\n",
       "      <th>7</th>\n",
       "      <td>17</td>\n",
       "      <td>0</td>\n",
       "      <td>0</td>\n",
       "      <td>0</td>\n",
       "      <td>1</td>\n",
       "      <td>0</td>\n",
       "      <td>0</td>\n",
       "      <td>0</td>\n",
       "      <td>0</td>\n",
       "      <td>0</td>\n",
       "      <td>...</td>\n",
       "      <td>0</td>\n",
       "      <td>0</td>\n",
       "      <td>0</td>\n",
       "      <td>0</td>\n",
       "      <td>0</td>\n",
       "      <td>0</td>\n",
       "      <td>0</td>\n",
       "      <td>0</td>\n",
       "      <td>0</td>\n",
       "      <td>0</td>\n",
       "    </tr>\n",
       "    <tr>\n",
       "      <th>21</th>\n",
       "      <td>0</td>\n",
       "      <td>0</td>\n",
       "      <td>0</td>\n",
       "      <td>0</td>\n",
       "      <td>0</td>\n",
       "      <td>0</td>\n",
       "      <td>0</td>\n",
       "      <td>0</td>\n",
       "      <td>0</td>\n",
       "      <td>0</td>\n",
       "      <td>...</td>\n",
       "      <td>0</td>\n",
       "      <td>0</td>\n",
       "      <td>0</td>\n",
       "      <td>0</td>\n",
       "      <td>0</td>\n",
       "      <td>1</td>\n",
       "      <td>0</td>\n",
       "      <td>0</td>\n",
       "      <td>0</td>\n",
       "      <td>0</td>\n",
       "    </tr>\n",
       "    <tr>\n",
       "      <th>25</th>\n",
       "      <td>33</td>\n",
       "      <td>0</td>\n",
       "      <td>0</td>\n",
       "      <td>0</td>\n",
       "      <td>0</td>\n",
       "      <td>0</td>\n",
       "      <td>0</td>\n",
       "      <td>0</td>\n",
       "      <td>1</td>\n",
       "      <td>0</td>\n",
       "      <td>...</td>\n",
       "      <td>0</td>\n",
       "      <td>1</td>\n",
       "      <td>0</td>\n",
       "      <td>0</td>\n",
       "      <td>0</td>\n",
       "      <td>0</td>\n",
       "      <td>0</td>\n",
       "      <td>0</td>\n",
       "      <td>0</td>\n",
       "      <td>0</td>\n",
       "    </tr>\n",
       "  </tbody>\n",
       "</table>\n",
       "<p>5 rows × 37 columns</p>\n",
       "</div>"
      ],
      "text/plain": [
       "    friends  basketball  football  soccer  softball  volleyball  swimming  \\\n",
       "0         7           0         0       0         0           0         0   \n",
       "2        69           0         1       0         0           0         0   \n",
       "7        17           0         0       0         1           0         0   \n",
       "21        0           0         0       0         0           0         0   \n",
       "25       33           0         0       0         0           0         0   \n",
       "\n",
       "    cheerleading  baseball  tennis  ...    blonde  mall  shopping  clothes  \\\n",
       "0              0         0       0  ...         0     0         0        0   \n",
       "2              0         0       0  ...         0     0         0        0   \n",
       "7              0         0       0  ...         0     0         0        0   \n",
       "21             0         0       0  ...         0     0         0        0   \n",
       "25             0         1       0  ...         0     1         0        0   \n",
       "\n",
       "    hollister  abercrombie  die  death  drunk  drugs  \n",
       "0           0            0    0      0      0      0  \n",
       "2           0            0    0      1      0      0  \n",
       "7           0            0    0      0      0      0  \n",
       "21          0            1    0      0      0      0  \n",
       "25          0            0    0      0      0      0  \n",
       "\n",
       "[5 rows x 37 columns]"
      ]
     },
     "execution_count": 16,
     "metadata": {},
     "output_type": "execute_result"
    }
   ],
   "source": [
    "datos_M.head()"
   ]
  },
  {
   "cell_type": "markdown",
   "metadata": {},
   "source": [
    "### Selección del número de clusters."
   ]
  },
  {
   "cell_type": "markdown",
   "metadata": {},
   "source": [
    "#### Método de evaluación de distorsión"
   ]
  },
  {
   "cell_type": "markdown",
   "metadata": {},
   "source": [
    "Para optimizar el número de clusters observaré la dispersión entre los elementos de cada cluster. El punto en el que la dispersión deja de disminuir con aumento del número de clusters será el número óptimo."
   ]
  },
  {
   "cell_type": "code",
   "execution_count": 17,
   "metadata": {
    "collapsed": false
   },
   "outputs": [],
   "source": [
    "from sklearn.cluster import KMeans\n",
    "from sklearn.metrics import silhouette_score\n",
    "from scipy.spatial.distance import cdist\n",
    "\n",
    "#definición de la función de distorsión\n",
    "def plot_distorsion(x, figure_name, max_k, n_init = 10):\n",
    "    meandistortions = []\n",
    "\n",
    "    for k in range(1, max_k):\n",
    "        kmeans = KMeans(n_clusters = k, n_init = n_init).fit(x)\n",
    "        meandistortions.append(sum(np.min(cdist(x, kmeans.cluster_centers_,\n",
    "                                                'euclidean'), axis = 1))\n",
    "                               / x.shape[0])\n",
    "\n",
    "    plot(range(1, max_k), meandistortions, 'bx-')\n",
    "    xlabel('k')\n",
    "    ylabel('Distorsion promedio')\n",
    "    title(figure_name)"
   ]
  },
  {
   "cell_type": "code",
   "execution_count": 18,
   "metadata": {
    "collapsed": false
   },
   "outputs": [
    {
     "name": "stdout",
     "output_type": "stream",
     "text": [
      "Using matplotlib backend: Qt4Agg\n",
      "Populating the interactive namespace from numpy and matplotlib\n"
     ]
    },
    {
     "data": {
      "image/png": "[encoded data removed]",
      "text/plain": [
       "<matplotlib.figure.Figure at 0x9054550>"
      ]
     },
     "metadata": {},
     "output_type": "display_data"
    }
   ],
   "source": [
    "%pylab\n",
    "%matplotlib inline\n",
    "\n",
    "plot_distorsion(datos_F, \"Cluster Mujeres\", max_k=20) # Implementación para mujeres."
   ]
  },
  {
   "cell_type": "markdown",
   "metadata": {},
   "source": [
    "Observamos que en caso de las mujeres a partir de los 5 clustrers la pendiente cambia y la dispersión empieza a disminuir más lentamente."
   ]
  },
  {
   "cell_type": "code",
   "execution_count": 19,
   "metadata": {
    "collapsed": false
   },
   "outputs": [
    {
     "data": {
      "image/png": "[encoded data removed]",
      "text/plain": [
       "<matplotlib.figure.Figure at 0x9054ef0>"
      ]
     },
     "metadata": {},
     "output_type": "display_data"
    }
   ],
   "source": [
    "plot_distorsion(datos_M, \"Cluster Hombres\", max_k = 20)# implementación para hombres"
   ]
  },
  {
   "cell_type": "markdown",
   "metadata": {},
   "source": [
    "En caso de los hombres la distorsión desciende rápidamente hasta los 3 clusters. Entre 3 y 4 clusters no observamos casi descenso de dispersión y a partir de los 4 clusters el resultado mejora hasta alrededor de los 6 y luego 10 clusters."
   ]
  },
  {
   "cell_type": "markdown",
   "metadata": {},
   "source": [
    "#### Método de evaluación del coeficiente de Silhouette "
   ]
  },
  {
   "cell_type": "markdown",
   "metadata": {},
   "source": [
    "Este método evalua a distancia de separación entre clusters. Cuanto más separados los clusters mejor. Se comprueba el coeficiente de separación por cada número de clusters para poder elegir el número óptimo."
   ]
  },
  {
   "cell_type": "code",
   "execution_count": 20,
   "metadata": {
    "collapsed": true
   },
   "outputs": [],
   "source": [
    "from sklearn.metrics import silhouette_score\n",
    "\n",
    "def plot_sillhouette(blobs, figure_name, max_k, n_init = 10):\n",
    "    sillhouette_avgs = []\n",
    "    \n",
    "    for k in range(2, max_k):\n",
    "        kmean = KMeans(n_clusters = k, n_init = n_init).fit(blobs)\n",
    "        sillhouette_avgs.append(silhouette_score(blobs, kmean.labels_))\n",
    "        \n",
    "    plot(range(2, max_k), sillhouette_avgs)\n",
    "    title(figure_name)"
   ]
  },
  {
   "cell_type": "code",
   "execution_count": 21,
   "metadata": {
    "collapsed": false
   },
   "outputs": [
    {
     "data": {
      "image/png": "[encoded data removed]",
      "text/plain": [
       "<matplotlib.figure.Figure at 0xeb873c8>"
      ]
     },
     "metadata": {},
     "output_type": "display_data"
    }
   ],
   "source": [
    "plot_sillhouette(datos_F, 'Mujeres',max_k = 20) # implementación para mujeres"
   ]
  },
  {
   "cell_type": "markdown",
   "metadata": {},
   "source": [
    "En caso de las mujeres observamos que el grado de separación disminuye proporcionalmente al aumento del número de clusters. "
   ]
  },
  {
   "cell_type": "code",
   "execution_count": 22,
   "metadata": {
    "collapsed": false
   },
   "outputs": [
    {
     "data": {
      "image/png": "[encoded data removed]",
      "text/plain": [
       "<matplotlib.figure.Figure at 0xf329978>"
      ]
     },
     "metadata": {},
     "output_type": "display_data"
    }
   ],
   "source": [
    "plot_sillhouette(datos_M, 'Hombres',max_k = 20)"
   ]
  },
  {
   "cell_type": "markdown",
   "metadata": {},
   "source": [
    "En caso de los hombres el grado de separación también desciende proporcionalente al ascenso de clusters."
   ]
  },
  {
   "cell_type": "markdown",
   "metadata": {},
   "source": [
    "Para elegir el número de clusters voy a tener en cuenta sobre todo el beneficio marginal de reducir la dispersión por cada cluster adicional, teniendo también en cuenta el descenso de la separación entre clusters.\n",
    "\n",
    "En caso de mujeres el beneficio margina mayor observamos hasta 5 clusters. A partir de ese número de clusters la disperción desciende más lento y división en más grupos tendría valor añadido solo si hay especial interés una clasificación muy fina.\n",
    "\n",
    "En caso de hombres escogeré 6 clusters. Es a partir de cuando la velocidad de descenso de dispersión disminuye y a la vez cabemos en el rango de no rebajar excesivamente la separación entre clusters."
   ]
  },
  {
   "cell_type": "markdown",
   "metadata": {},
   "source": [
    "#### Clusterisación"
   ]
  },
  {
   "cell_type": "markdown",
   "metadata": {},
   "source": [
    "Divido las mujeres en 5 clusters."
   ]
  },
  {
   "cell_type": "code",
   "execution_count": 23,
   "metadata": {
    "collapsed": false
   },
   "outputs": [
    {
     "data": {
      "text/plain": [
       "KMeans(copy_x=True, init='k-means++', max_iter=300, n_clusters=5, n_init=10,\n",
       "    n_jobs=1, precompute_distances='auto', random_state=None, tol=0.0001,\n",
       "    verbose=0)"
      ]
     },
     "execution_count": 23,
     "metadata": {},
     "output_type": "execute_result"
    }
   ],
   "source": [
    "kmeansF = KMeans(n_clusters = 5, n_init = 10).fit(datos_F)\n",
    "kmeansF"
   ]
  },
  {
   "cell_type": "markdown",
   "metadata": {},
   "source": [
    "Puedo ver los centróides. Ellos reflejarían las características medias de cada cluster."
   ]
  },
  {
   "cell_type": "code",
   "execution_count": 24,
   "metadata": {
    "collapsed": false
   },
   "outputs": [
    {
     "data": {
      "text/plain": [
       "array([[  6.75716862e+00,   2.25247971e-01,   1.90802525e-01,\n",
       "          1.99098287e-01,   1.61045987e-01,   1.41478810e-01,\n",
       "          1.34265104e-01,   1.10279531e-01,   5.78899910e-02,\n",
       "          8.51217313e-02,   1.22452660e-01,   3.45085663e-01,\n",
       "          2.35256988e-01,   1.49504058e-01,   1.32822362e-01,\n",
       "          1.13706041e-01,   4.36789901e-01,   2.82867448e-01,\n",
       "          3.62488729e-02,   7.39134355e-01,   2.35347160e-01,\n",
       "          4.26420198e-01,   2.26871055e-01,   9.41388638e-02,\n",
       "          1.89359784e-02,   4.76825969e-01,   1.20198377e-01,\n",
       "          1.01082056e-01,   2.58431019e-01,   3.83588819e-01,\n",
       "          1.61496844e-01,   6.33904418e-02,   4.77006312e-02,\n",
       "          1.85662759e-01,   1.09648332e-01,   9.42290352e-02,\n",
       "          7.06943192e-02],\n",
       "       [  7.14557229e+01,   3.22891566e-01,   2.68072289e-01,\n",
       "          2.79819277e-01,   2.80120482e-01,   2.10843373e-01,\n",
       "          1.75301205e-01,   1.72289157e-01,   9.12650602e-02,\n",
       "          7.77108434e-02,   1.48795181e-01,   4.53313253e-01,\n",
       "          1.96686747e-01,   1.74397590e-01,   1.70481928e-01,\n",
       "          1.23493976e-01,   5.44879518e-01,   3.01204819e-01,\n",
       "          4.12650602e-02,   7.95180723e-01,   2.79518072e-01,\n",
       "          5.79216867e-01,   3.47289157e-01,   1.48493976e-01,\n",
       "          2.34939759e-02,   5.16867470e-01,   1.44578313e-01,\n",
       "          1.25602410e-01,   3.41265060e-01,   5.21385542e-01,\n",
       "          1.90361446e-01,   1.01807229e-01,   8.55421687e-02,\n",
       "          1.77710843e-01,   1.28012048e-01,   8.88554217e-02,\n",
       "          6.08433735e-02],\n",
       "       [  2.56300000e+02,   3.23076923e-01,   2.23076923e-01,\n",
       "          3.07692308e-01,   2.23076923e-01,   2.38461538e-01,\n",
       "          2.23076923e-01,   1.84615385e-01,   1.15384615e-01,\n",
       "          1.15384615e-01,   1.46153846e-01,   4.92307692e-01,\n",
       "          2.53846154e-01,   1.76923077e-01,   1.61538462e-01,\n",
       "          1.30769231e-01,   5.00000000e-01,   3.38461538e-01,\n",
       "          6.92307692e-02,   6.92307692e-01,   2.15384615e-01,\n",
       "          6.30769231e-01,   2.61538462e-01,   1.00000000e-01,\n",
       "         -6.93889390e-18,   7.07692308e-01,   1.76923077e-01,\n",
       "          1.23076923e-01,   3.46153846e-01,   6.38461538e-01,\n",
       "          2.23076923e-01,   1.30769231e-01,   1.53846154e-01,\n",
       "          2.23076923e-01,   1.53846154e-01,   1.53846154e-01,\n",
       "          6.92307692e-02],\n",
       "       [  3.54641930e+01,   2.92411055e-01,   2.29958772e-01,\n",
       "          2.57443885e-01,   2.30264162e-01,   2.01404795e-01,\n",
       "          1.64605283e-01,   1.34218965e-01,   7.68056192e-02,\n",
       "          8.73415789e-02,   1.43227974e-01,   4.14261719e-01,\n",
       "          2.36066575e-01,   1.61245992e-01,   1.58344785e-01,\n",
       "          1.20323714e-01,   5.19010536e-01,   3.32264468e-01,\n",
       "          4.68773859e-02,   8.16613223e-01,   2.67216369e-01,\n",
       "          5.16414720e-01,   2.86455947e-01,   1.16353642e-01,\n",
       "          2.13773095e-02,   5.02824859e-01,   1.44602229e-01,\n",
       "          1.47656131e-01,   2.95617652e-01,   4.63734921e-01,\n",
       "          1.75904718e-01,   8.36768972e-02,   5.71079554e-02,\n",
       "          1.96365857e-01,   1.36204001e-01,   9.31439914e-02,\n",
       "          5.90929913e-02],\n",
       "       [  1.30850777e+02,   3.88601036e-01,   2.94300518e-01,\n",
       "          2.48704663e-01,   3.00518135e-01,   2.25906736e-01,\n",
       "          1.62694301e-01,   2.21761658e-01,   1.05699482e-01,\n",
       "          7.66839378e-02,   1.44041451e-01,   5.35751295e-01,\n",
       "          2.29015544e-01,   2.07253886e-01,   2.21761658e-01,\n",
       "          1.22279793e-01,   6.27979275e-01,   2.68393782e-01,\n",
       "          4.24870466e-02,   7.91709845e-01,   2.36269430e-01,\n",
       "          6.29015544e-01,   3.90673575e-01,   1.39896373e-01,\n",
       "          2.90155440e-02,   5.49222798e-01,   1.73056995e-01,\n",
       "          1.62694301e-01,   4.59067358e-01,   5.57512953e-01,\n",
       "          1.73056995e-01,   1.51295337e-01,   1.03626943e-01,\n",
       "          2.02072539e-01,   1.43005181e-01,   1.11917098e-01,\n",
       "          5.49222798e-02]])"
      ]
     },
     "execution_count": 24,
     "metadata": {},
     "output_type": "execute_result"
    }
   ],
   "source": [
    "kmeansF.cluster_centers_"
   ]
  },
  {
   "cell_type": "markdown",
   "metadata": {},
   "source": [
    "Puedo ver por que cada cluster tiene características medias diferentes:"
   ]
  },
  {
   "cell_type": "code",
   "execution_count": 34,
   "metadata": {
    "collapsed": false
   },
   "outputs": [
    {
     "data": {
      "text/plain": [
       "[<matplotlib.lines.Line2D at 0x1d362e10>]"
      ]
     },
     "execution_count": 34,
     "metadata": {},
     "output_type": "execute_result"
    },
    {
     "data": {
      "image/png": "[encoded data removed]",
      "text/plain": [
       "<matplotlib.figure.Figure at 0xf2f8588>"
      ]
     },
     "metadata": {},
     "output_type": "display_data"
    }
   ],
   "source": [
    "plot(kmeansF.cluster_centers_[0])"
   ]
  },
  {
   "cell_type": "code",
   "execution_count": 26,
   "metadata": {
    "collapsed": false
   },
   "outputs": [
    {
     "data": {
      "text/plain": [
       "[<matplotlib.lines.Line2D at 0xeea52b0>]"
      ]
     },
     "execution_count": 26,
     "metadata": {},
     "output_type": "execute_result"
    },
    {
     "data": {
      "image/png": "[encoded data removed]",
      "text/plain": [
       "<matplotlib.figure.Figure at 0xf334e10>"
      ]
     },
     "metadata": {},
     "output_type": "display_data"
    }
   ],
   "source": [
    "plot(kmeansF.cluster_centers_[1])"
   ]
  },
  {
   "cell_type": "code",
   "execution_count": 29,
   "metadata": {
    "collapsed": false
   },
   "outputs": [
    {
     "data": {
      "text/plain": [
       "[<matplotlib.lines.Line2D at 0xeeac470>]"
      ]
     },
     "execution_count": 29,
     "metadata": {},
     "output_type": "execute_result"
    },
    {
     "data": {
      "image/png": "[encoded data removed]",
      "text/plain": [
       "<matplotlib.figure.Figure at 0xf334b00>"
      ]
     },
     "metadata": {},
     "output_type": "display_data"
    }
   ],
   "source": [
    "plot(kmeansF.cluster_centers_[2])"
   ]
  },
  {
   "cell_type": "code",
   "execution_count": 30,
   "metadata": {
    "collapsed": false
   },
   "outputs": [
    {
     "data": {
      "text/plain": [
       "[<matplotlib.lines.Line2D at 0x1d07bb00>]"
      ]
     },
     "execution_count": 30,
     "metadata": {},
     "output_type": "execute_result"
    },
    {
     "data": {
      "image/png": "[encoded data removed]",
      "text/plain": [
       "<matplotlib.figure.Figure at 0xf2a44a8>"
      ]
     },
     "metadata": {},
     "output_type": "display_data"
    }
   ],
   "source": [
    "plot(kmeansF.cluster_centers_[3])"
   ]
  },
  {
   "cell_type": "code",
   "execution_count": 31,
   "metadata": {
    "collapsed": false
   },
   "outputs": [
    {
     "data": {
      "text/plain": [
       "[<matplotlib.lines.Line2D at 0x1d17e898>]"
      ]
     },
     "execution_count": 31,
     "metadata": {},
     "output_type": "execute_result"
    },
    {
     "data": {
      "image/png": "[encoded data removed]",
      "text/plain": [
       "<matplotlib.figure.Figure at 0xecfa048>"
      ]
     },
     "metadata": {},
     "output_type": "display_data"
    }
   ],
   "source": [
    "plot(kmeansF.cluster_centers_[4])"
   ]
  },
  {
   "cell_type": "markdown",
   "metadata": {},
   "source": [
    "Podemos ver que las mujeres clasificadas en el primer cluster están menos interesadas en amigos y  más en otros temas. Por otro lado en el cluster quinto es al contrario."
   ]
  },
  {
   "cell_type": "markdown",
   "metadata": {},
   "source": [
    "Divido los hombres en 6 clusters"
   ]
  },
  {
   "cell_type": "code",
   "execution_count": 35,
   "metadata": {
    "collapsed": false
   },
   "outputs": [],
   "source": [
    "kmeansM = KMeans(n_clusters = 6, n_init = 10).fit(datos_M)"
   ]
  },
  {
   "cell_type": "code",
   "execution_count": 36,
   "metadata": {
    "collapsed": false
   },
   "outputs": [
    {
     "data": {
      "text/plain": [
       "array([[  4.71567863e+00,   2.80421217e-01,   4.09126365e-01,\n",
       "          2.04368175e-01,   4.29017161e-03,   3.04212168e-02,\n",
       "          7.02028081e-02,   8.58034321e-03,   2.34399376e-01,\n",
       "          7.76131045e-02,   1.81747270e-01,   6.04524181e-02,\n",
       "          1.47815913e-01,   6.82527301e-02,   4.99219969e-02,\n",
       "          5.34321373e-02,   1.85647426e-01,   2.81981279e-01,\n",
       "          4.17316693e-02,   6.09594384e-01,   2.19578783e-01,\n",
       "          4.04446178e-01,   1.59906396e-01,   1.03354134e-01,\n",
       "          2.49609984e-02,   1.75117005e-01,   2.76911076e-02,\n",
       "          2.18408736e-02,   1.01404056e-01,   3.93915757e-02,\n",
       "          6.27925117e-02,   2.45709828e-02,   1.75507020e-02,\n",
       "          1.65366615e-01,   8.81435257e-02,   6.55226209e-02,\n",
       "          6.04524181e-02],\n",
       "       [  5.32020460e+01,   3.65728900e-01,   4.61636829e-01,\n",
       "          2.30179028e-01,   8.95140665e-03,   3.96419437e-02,\n",
       "          8.43989770e-02,   2.55754476e-03,   3.28644501e-01,\n",
       "          1.31713555e-01,   2.03324808e-01,   8.69565217e-02,\n",
       "          1.54731458e-01,   9.97442455e-02,   5.11508951e-02,\n",
       "          7.41687980e-02,   2.90281330e-01,   4.71867008e-01,\n",
       "          8.56777494e-02,   8.52941176e-01,   3.06905371e-01,\n",
       "          4.87212276e-01,   2.22506394e-01,   1.73913043e-01,\n",
       "          2.55754476e-02,   1.95652174e-01,   4.47570332e-02,\n",
       "          1.66240409e-02,   1.62404092e-01,   7.16112532e-02,\n",
       "          8.18414322e-02,   3.06905371e-02,   1.79028133e-02,\n",
       "          1.91815857e-01,   1.17647059e-01,   9.20716113e-02,\n",
       "          6.01023018e-02],\n",
       "       [  5.96500000e+02,   5.00000000e-01,   0.00000000e+00,\n",
       "          0.00000000e+00,   0.00000000e+00,   0.00000000e+00,\n",
       "          0.00000000e+00,   0.00000000e+00,   1.00000000e+00,\n",
       "          0.00000000e+00,   0.00000000e+00,   5.00000000e-01,\n",
       "          0.00000000e+00,   0.00000000e+00,   0.00000000e+00,\n",
       "          2.00000000e+00,   0.00000000e+00,   0.00000000e+00,\n",
       "          0.00000000e+00,   0.00000000e+00,   0.00000000e+00,\n",
       "          0.00000000e+00,   0.00000000e+00,   0.00000000e+00,\n",
       "          5.00000000e-01,   0.00000000e+00,   0.00000000e+00,\n",
       "          1.00000000e+00,   0.00000000e+00,   0.00000000e+00,\n",
       "          0.00000000e+00,   0.00000000e+00,   0.00000000e+00,\n",
       "          1.00000000e+00,   5.00000000e-01,   5.00000000e-01,\n",
       "          0.00000000e+00],\n",
       "       [  2.62002618e+01,   3.23298429e-01,   5.02617801e-01,\n",
       "          1.93717277e-01,   1.24345550e-02,   3.33769634e-02,\n",
       "          9.29319372e-02,   7.85340314e-03,   2.67015707e-01,\n",
       "          1.09947644e-01,   2.25130890e-01,   7.91884817e-02,\n",
       "          1.79319372e-01,   8.96596859e-02,   4.84293194e-02,\n",
       "          5.62827225e-02,   1.86518325e-01,   3.92670157e-01,\n",
       "          4.38481675e-02,   7.38874346e-01,   2.61125654e-01,\n",
       "          3.89397906e-01,   2.11387435e-01,   1.26308901e-01,\n",
       "          2.81413613e-02,   1.72774869e-01,   2.94502618e-02,\n",
       "          2.94502618e-02,   1.52486911e-01,   4.77748691e-02,\n",
       "          7.72251309e-02,   3.99214660e-02,   2.68324607e-02,\n",
       "          1.76701571e-01,   1.21073298e-01,   7.13350785e-02,\n",
       "          4.05759162e-02],\n",
       "       [  1.79722222e+02,   5.55555556e-01,   6.66666667e-01,\n",
       "          2.50000000e-01,   5.55555556e-02,   5.55555556e-02,\n",
       "          1.66666667e-01,   5.55555556e-02,   3.88888889e-01,\n",
       "          5.00000000e-01,   2.22222222e-01,   5.55555556e-02,\n",
       "          1.66666667e-01,   5.55555556e-02,   8.33333333e-02,\n",
       "          1.11111111e-01,   8.33333333e-02,   5.83333333e-01,\n",
       "          8.33333333e-02,   7.77777778e-01,   3.33333333e-01,\n",
       "          5.83333333e-01,   2.77777778e-01,   5.55555556e-02,\n",
       "          1.73472348e-17,   1.38888889e-01,  -3.46944695e-18,\n",
       "          5.55555556e-02,   4.44444444e-01,   8.33333333e-02,\n",
       "          1.11111111e-01,   2.77777778e-02,   2.77777778e-02,\n",
       "          3.05555556e-01,   8.33333333e-02,   1.11111111e-01,\n",
       "          3.46944695e-17],\n",
       "       [  9.28193548e+01,   4.09677419e-01,   4.51612903e-01,\n",
       "          2.83870968e-01,   2.90322581e-02,   6.12903226e-02,\n",
       "          7.41935484e-02,   2.25806452e-02,   4.38709677e-01,\n",
       "          1.64516129e-01,   2.12903226e-01,   8.06451613e-02,\n",
       "          1.87096774e-01,   1.22580645e-01,   8.38709677e-02,\n",
       "          6.12903226e-02,   2.67741935e-01,   3.90322581e-01,\n",
       "          3.87096774e-02,   7.38709677e-01,   3.45161290e-01,\n",
       "          6.41935484e-01,   3.38709677e-01,   1.83870968e-01,\n",
       "          4.83870968e-02,   2.32258065e-01,   3.22580645e-02,\n",
       "          2.90322581e-02,   2.38709677e-01,   7.09677419e-02,\n",
       "          9.67741935e-02,   7.09677419e-02,   5.80645161e-02,\n",
       "          2.38709677e-01,   1.19354839e-01,   1.25806452e-01,\n",
       "          7.74193548e-02]])"
      ]
     },
     "execution_count": 36,
     "metadata": {},
     "output_type": "execute_result"
    }
   ],
   "source": [
    "kmeansM.cluster_centers_"
   ]
  },
  {
   "cell_type": "markdown",
   "metadata": {},
   "source": [
    "También puedo ver que caracterñisticas de los clusters difieren:"
   ]
  },
  {
   "cell_type": "code",
   "execution_count": 37,
   "metadata": {
    "collapsed": false
   },
   "outputs": [
    {
     "data": {
      "text/plain": [
       "[<matplotlib.lines.Line2D at 0x1d5bc860>]"
      ]
     },
     "execution_count": 37,
     "metadata": {},
     "output_type": "execute_result"
    },
    {
     "data": {
      "image/png": "[encoded data removed]",
      "text/plain": [
       "<matplotlib.figure.Figure at 0xf3036a0>"
      ]
     },
     "metadata": {},
     "output_type": "display_data"
    }
   ],
   "source": [
    "plot(kmeansM.cluster_centers_[0])"
   ]
  },
  {
   "cell_type": "code",
   "execution_count": 38,
   "metadata": {
    "collapsed": false
   },
   "outputs": [
    {
     "data": {
      "text/plain": [
       "[<matplotlib.lines.Line2D at 0x1d7d6160>]"
      ]
     },
     "execution_count": 38,
     "metadata": {},
     "output_type": "execute_result"
    },
    {
     "data": {
      "image/png": "[encoded data removed]",
      "text/plain": [
       "<matplotlib.figure.Figure at 0x1d5d8a58>"
      ]
     },
     "metadata": {},
     "output_type": "display_data"
    }
   ],
   "source": [
    "plot(kmeansM.cluster_centers_[1])"
   ]
  },
  {
   "cell_type": "code",
   "execution_count": 39,
   "metadata": {
    "collapsed": false
   },
   "outputs": [
    {
     "data": {
      "text/plain": [
       "[<matplotlib.lines.Line2D at 0x1d9ab128>]"
      ]
     },
     "execution_count": 39,
     "metadata": {},
     "output_type": "execute_result"
    },
    {
     "data": {
      "image/png": "[encoded data removed]",
      "text/plain": [
       "<matplotlib.figure.Figure at 0x1d7e4d30>"
      ]
     },
     "metadata": {},
     "output_type": "display_data"
    }
   ],
   "source": [
    "plot(kmeansM.cluster_centers_[2])"
   ]
  },
  {
   "cell_type": "code",
   "execution_count": 40,
   "metadata": {
    "collapsed": false
   },
   "outputs": [
    {
     "data": {
      "text/plain": [
       "[<matplotlib.lines.Line2D at 0x1dbc00f0>]"
      ]
     },
     "execution_count": 40,
     "metadata": {},
     "output_type": "execute_result"
    },
    {
     "data": {
      "image/png": "[encoded data removed]",
      "text/plain": [
       "<matplotlib.figure.Figure at 0x1d9ba780>"
      ]
     },
     "metadata": {},
     "output_type": "display_data"
    }
   ],
   "source": [
    "plot(kmeansM.cluster_centers_[3])"
   ]
  },
  {
   "cell_type": "code",
   "execution_count": 41,
   "metadata": {
    "collapsed": false
   },
   "outputs": [
    {
     "data": {
      "text/plain": [
       "[<matplotlib.lines.Line2D at 0x1dd6ba20>]"
      ]
     },
     "execution_count": 41,
     "metadata": {},
     "output_type": "execute_result"
    },
    {
     "data": {
      "image/png": "[encoded data removed]",
      "text/plain": [
       "<matplotlib.figure.Figure at 0x1dbd05f8>"
      ]
     },
     "metadata": {},
     "output_type": "display_data"
    }
   ],
   "source": [
    "plot(kmeansM.cluster_centers_[4])"
   ]
  },
  {
   "cell_type": "code",
   "execution_count": 42,
   "metadata": {
    "collapsed": false
   },
   "outputs": [
    {
     "data": {
      "text/plain": [
       "[<matplotlib.lines.Line2D at 0x1de807b8>]"
      ]
     },
     "execution_count": 42,
     "metadata": {},
     "output_type": "execute_result"
    },
    {
     "data": {
      "image/png": "[encoded data removed]",
      "text/plain": [
       "<matplotlib.figure.Figure at 0x1dd381d0>"
      ]
     },
     "metadata": {},
     "output_type": "display_data"
    }
   ],
   "source": [
    "plot(kmeansM.cluster_centers_[5])"
   ]
  },
  {
   "cell_type": "markdown",
   "metadata": {
    "collapsed": true
   },
   "source": [
    "En el primer cluster se encuentran hombres nteresados sobre todo en footbol, sexo y música, mientras que en el tercer cluster se centran en los amigos."
   ]
  },
  {
   "cell_type": "code",
   "execution_count": null,
   "metadata": {
    "collapsed": true
   },
   "outputs": [],
   "source": []
  }
 ],
 "metadata": {
  "kernelspec": {
   "display_name": "Python 2",
   "language": "python",
   "name": "python2"
  },
  "language_info": {
   "codemirror_mode": {
    "name": "ipython",
    "version": 2
   },
   "file_extension": ".py",
   "mimetype": "text/x-python",
   "name": "python",
   "nbconvert_exporter": "python",
   "pygments_lexer": "ipython2",
   "version": "2.7.11"
  }
 },
 "nbformat": 4,
 "nbformat_minor": 0
}
